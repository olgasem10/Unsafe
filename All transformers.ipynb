{
  "nbformat": 4,
  "nbformat_minor": 0,
  "metadata": {
    "kernelspec": {
      "name": "python3",
      "display_name": "Python 3",
      "language": "python"
    },
    "language_info": {
      "name": "python",
      "version": "3.7.9",
      "mimetype": "text/x-python",
      "codemirror_mode": {
        "name": "ipython",
        "version": 3
      },
      "pygments_lexer": "ipython3",
      "nbconvert_exporter": "python",
      "file_extension": ".py"
    },
    "colab": {
      "name": "transformers.ipynb",
      "provenance": [],
      "collapsed_sections": []
    }
  },
  "cells": [
    {
      "cell_type": "code",
      "metadata": {
        "trusted": true,
        "id": "bgDDRMyjqULq"
      },
      "source": [
        "from transformers import BertTokenizer, BertForSequenceClassification, Trainer, TrainingArguments, GPT2ForSequenceClassification, GPT2TokenizerFast, AutoTokenizer, AutoModelForSequenceClassification\n",
        "import torch\n",
        "from torch.utils.data import Dataset, DataLoader\n",
        "from sklearn.metrics import accuracy_score, precision_recall_fscore_support, roc_auc_score\n",
        "import numpy as np\n",
        "import pandas as pd"
      ],
      "execution_count": null,
      "outputs": []
    },
    {
      "cell_type": "markdown",
      "metadata": {
        "id": "Wm_FBlTvqULs"
      },
      "source": [
        "### Данные"
      ]
    },
    {
      "cell_type": "code",
      "metadata": {
        "trusted": true,
        "id": "yNp4zUqqqULs"
      },
      "source": [
        "train_df = pd.read_csv('/kaggle/input/unsafe/train_randst0.csv')\n",
        "test_df = pd.read_csv('/kaggle/input/unsafe/val_randst0.csv')\n",
        "train_df = train_df[[\"text\", \"unsafe\"]]\n",
        "test_df = test_df[[\"text\", \"unsafe\"]]"
      ],
      "execution_count": null,
      "outputs": []
    },
    {
      "cell_type": "code",
      "metadata": {
        "trusted": true,
        "id": "VQ_669VKqULt"
      },
      "source": [
        "train_df = train_df.loc[(train_df['unsafe'] >= 0.8) | (train_df['unsafe'] <= 0.2)]"
      ],
      "execution_count": null,
      "outputs": []
    },
    {
      "cell_type": "code",
      "metadata": {
        "trusted": true,
        "id": "UefNWKURqULt"
      },
      "source": [
        "def binary(val):\n",
        "    return round(val)"
      ],
      "execution_count": null,
      "outputs": []
    },
    {
      "cell_type": "code",
      "metadata": {
        "trusted": true,
        "id": "iNeK-25IqULu"
      },
      "source": [
        "train_df['unsafe'] = train_df['unsafe'].apply(binary)\n",
        "test_df['unsafe'] = test_df['unsafe'].apply(binary)"
      ],
      "execution_count": null,
      "outputs": []
    },
    {
      "cell_type": "code",
      "metadata": {
        "trusted": true,
        "id": "QMhxU95aqULu"
      },
      "source": [
        "train_df, test_df"
      ],
      "execution_count": null,
      "outputs": []
    },
    {
      "cell_type": "code",
      "metadata": {
        "trusted": true,
        "id": "2VRwRKkyqULv"
      },
      "source": [
        "x_train = train_df['text'].tolist()\n",
        "y_train = train_df['unsafe'].tolist()\n",
        "x_test = test_df['text'].tolist()\n",
        "y_test = test_df['unsafe'].tolist()"
      ],
      "execution_count": null,
      "outputs": []
    },
    {
      "cell_type": "code",
      "metadata": {
        "trusted": true,
        "id": "P85oXRp6qULv"
      },
      "source": [
        "class UnsafeData(Dataset):\n",
        "\n",
        "    def __init__(self, texts, targets, tokenizer, max_len):\n",
        "        \n",
        "        super().__init__()\n",
        "        \n",
        "        self.texts = texts\n",
        "        self.targets = targets        \n",
        "        self.max_len = max_len\n",
        "        self.tokenizer = tokenizer\n",
        "\n",
        "    def __len__(self):\n",
        "        \n",
        "        return len(self.texts)\n",
        "\n",
        "    \n",
        "    def __getitem__(self, index):\n",
        "        x = self.texts[index]\n",
        "\n",
        "        enc_dict = self.tokenizer(x, truncation=True, max_length=self.max_len, padding='max_length')\n",
        "      \n",
        "        item = {key: torch.tensor(val).long() for key, val in enc_dict.items()}\n",
        "        item['labels'] = torch.tensor(self.targets[index]).long()\n",
        "\n",
        "        return item "
      ],
      "execution_count": null,
      "outputs": []
    },
    {
      "cell_type": "code",
      "metadata": {
        "trusted": true,
        "id": "6u-ZO3v_qULw"
      },
      "source": [
        "train_dataset = UnsafeData(x_train, y_train, max_len = 60)\n",
        "test_dataset = UnsafeData(x_test, y_test, max_len = 60)"
      ],
      "execution_count": null,
      "outputs": []
    },
    {
      "cell_type": "code",
      "metadata": {
        "trusted": true,
        "id": "5DfVQJ6eqULw"
      },
      "source": [
        "len(train_dataset), len(test_dataset)"
      ],
      "execution_count": null,
      "outputs": []
    },
    {
      "cell_type": "code",
      "metadata": {
        "trusted": true,
        "id": "7TKBVyvVqULx"
      },
      "source": [
        "train_dataset[23000]"
      ],
      "execution_count": null,
      "outputs": []
    },
    {
      "cell_type": "markdown",
      "metadata": {
        "id": "h0LCr-w7qULx"
      },
      "source": [
        "### Руберт"
      ]
    },
    {
      "cell_type": "code",
      "metadata": {
        "trusted": true,
        "id": "mCQMM8B4qULx"
      },
      "source": [
        "def compute_metrics(pred):\n",
        "    labels = pred.label_ids\n",
        "    preds = pred.predictions.argmax(-1)\n",
        "    precision, recall, f1, _ = precision_recall_fscore_support(labels, preds, average='weighted')\n",
        "    acc = accuracy_score(labels, preds)\n",
        "    return {\n",
        "        'accuracy': acc,\n",
        "        'f1': f1,\n",
        "        'precision': precision,\n",
        "        'recall': recall\n",
        "    }"
      ],
      "execution_count": null,
      "outputs": []
    },
    {
      "cell_type": "code",
      "metadata": {
        "trusted": true,
        "id": "LSgQ9uScqULx"
      },
      "source": [
        "model_name = 'DeepPavlov/rubert-base-cased-conversational'"
      ],
      "execution_count": null,
      "outputs": []
    },
    {
      "cell_type": "code",
      "metadata": {
        "trusted": true,
        "id": "yPnYmLAVqULy"
      },
      "source": [
        "tokenizer = BertTokenizer.from_pretrained(model_name)\n",
        "model = BertForSequenceClassification.from_pretrained(model_name)"
      ],
      "execution_count": null,
      "outputs": []
    },
    {
      "cell_type": "code",
      "metadata": {
        "trusted": true,
        "id": "ojlQZwtyqULy"
      },
      "source": [
        "training_args = TrainingArguments(\n",
        "    output_dir='/kaggle/working/bert1',\n",
        "    num_train_epochs=1,\n",
        "    per_device_train_batch_size=64,\n",
        "    per_device_eval_batch_size=64,\n",
        "    logging_steps = 250,\n",
        "    evaluation_strategy = 'steps',\n",
        "    warmup_steps=500,\n",
        "    weight_decay=0.01,\n",
        "    logging_dir='/kaggle/working/bert1/logs',\n",
        "    save_steps = 500,\n",
        "    load_best_model_at_end = True    \n",
        ")"
      ],
      "execution_count": null,
      "outputs": []
    },
    {
      "cell_type": "code",
      "metadata": {
        "trusted": true,
        "id": "l190NqlOqULy"
      },
      "source": [
        "trainer = Trainer(\n",
        "    model=model,\n",
        "    args=training_args,\n",
        "    compute_metrics=compute_metrics,\n",
        "    train_dataset=train_dataset,\n",
        "    eval_dataset=test_dataset\n",
        ")"
      ],
      "execution_count": null,
      "outputs": []
    },
    {
      "cell_type": "code",
      "metadata": {
        "trusted": true,
        "id": "98-bpuxZqTCG",
        "outputId": "a2144b9e-3c36-46a7-d63e-a7669feb4518"
      },
      "source": [
        "trainer.train()"
      ],
      "execution_count": null,
      "outputs": [
        {
          "output_type": "display_data",
          "data": {
            "text/plain": [
              "<IPython.core.display.HTML object>"
            ],
            "text/html": [
              "\n",
              "    <div>\n",
              "        <style>\n",
              "            /* Turns off some styling */\n",
              "            progress {\n",
              "                /* gets rid of default border in Firefox and Opera. */\n",
              "                border: none;\n",
              "                /* Needs to be in here for Safari polyfill so background images work as expected. */\n",
              "                background-size: auto;\n",
              "            }\n",
              "        </style>\n",
              "      \n",
              "      <progress value='1877' max='1877' style='width:300px; height:20px; vertical-align: middle;'></progress>\n",
              "      [1877/1877 19:38, Epoch 1/1]\n",
              "    </div>\n",
              "    <table border=\"1\" class=\"dataframe\">\n",
              "  <thead>\n",
              "    <tr style=\"text-align: left;\">\n",
              "      <th>Step</th>\n",
              "      <th>Training Loss</th>\n",
              "      <th>Validation Loss</th>\n",
              "      <th>Accuracy</th>\n",
              "      <th>F1</th>\n",
              "      <th>Precision</th>\n",
              "      <th>Recall</th>\n",
              "      <th>Runtime</th>\n",
              "      <th>Samples Per Second</th>\n",
              "    </tr>\n",
              "  </thead>\n",
              "  <tbody>\n",
              "    <tr>\n",
              "      <td>250</td>\n",
              "      <td>0.542400</td>\n",
              "      <td>0.464540</td>\n",
              "      <td>0.777397</td>\n",
              "      <td>0.771103</td>\n",
              "      <td>0.769191</td>\n",
              "      <td>0.777397</td>\n",
              "      <td>44.371900</td>\n",
              "      <td>552.174000</td>\n",
              "    </tr>\n",
              "    <tr>\n",
              "      <td>500</td>\n",
              "      <td>0.403100</td>\n",
              "      <td>0.459837</td>\n",
              "      <td>0.782172</td>\n",
              "      <td>0.759164</td>\n",
              "      <td>0.777525</td>\n",
              "      <td>0.782172</td>\n",
              "      <td>44.349500</td>\n",
              "      <td>552.453000</td>\n",
              "    </tr>\n",
              "    <tr>\n",
              "      <td>750</td>\n",
              "      <td>0.387900</td>\n",
              "      <td>0.441375</td>\n",
              "      <td>0.797192</td>\n",
              "      <td>0.791950</td>\n",
              "      <td>0.790612</td>\n",
              "      <td>0.797192</td>\n",
              "      <td>44.360600</td>\n",
              "      <td>552.314000</td>\n",
              "    </tr>\n",
              "    <tr>\n",
              "      <td>1000</td>\n",
              "      <td>0.379200</td>\n",
              "      <td>0.453131</td>\n",
              "      <td>0.796131</td>\n",
              "      <td>0.780167</td>\n",
              "      <td>0.790522</td>\n",
              "      <td>0.796131</td>\n",
              "      <td>44.356100</td>\n",
              "      <td>552.371000</td>\n",
              "    </tr>\n",
              "    <tr>\n",
              "      <td>1250</td>\n",
              "      <td>0.358900</td>\n",
              "      <td>0.416489</td>\n",
              "      <td>0.806661</td>\n",
              "      <td>0.804773</td>\n",
              "      <td>0.803541</td>\n",
              "      <td>0.806661</td>\n",
              "      <td>44.331800</td>\n",
              "      <td>552.674000</td>\n",
              "    </tr>\n",
              "    <tr>\n",
              "      <td>1500</td>\n",
              "      <td>0.348700</td>\n",
              "      <td>0.418545</td>\n",
              "      <td>0.809559</td>\n",
              "      <td>0.808421</td>\n",
              "      <td>0.807540</td>\n",
              "      <td>0.809559</td>\n",
              "      <td>44.344000</td>\n",
              "      <td>552.521000</td>\n",
              "    </tr>\n",
              "    <tr>\n",
              "      <td>1750</td>\n",
              "      <td>0.342500</td>\n",
              "      <td>0.409088</td>\n",
              "      <td>0.811844</td>\n",
              "      <td>0.810816</td>\n",
              "      <td>0.810004</td>\n",
              "      <td>0.811844</td>\n",
              "      <td>44.334000</td>\n",
              "      <td>552.645000</td>\n",
              "    </tr>\n",
              "  </tbody>\n",
              "</table><p>"
            ]
          },
          "metadata": {
            "tags": []
          }
        },
        {
          "output_type": "execute_result",
          "data": {
            "text/plain": [
              "TrainOutput(global_step=1877, training_loss=0.39004441405079376, metrics={'train_runtime': 1179.8352, 'train_samples_per_second': 1.591, 'total_flos': 7691018384649600, 'epoch': 1.0})"
            ]
          },
          "metadata": {
            "tags": []
          },
          "execution_count": 18
        }
      ]
    },
    {
      "cell_type": "code",
      "metadata": {
        "trusted": true,
        "id": "YuYjYI3eqTCG",
        "outputId": "0f1c8b75-bc7a-4389-aac9-17df7fb7e04a"
      },
      "source": [
        "trainer.evaluate()"
      ],
      "execution_count": null,
      "outputs": [
        {
          "output_type": "display_data",
          "data": {
            "text/plain": [
              "<IPython.core.display.HTML object>"
            ],
            "text/html": [
              "\n",
              "    <div>\n",
              "        <style>\n",
              "            /* Turns off some styling */\n",
              "            progress {\n",
              "                /* gets rid of default border in Firefox and Opera. */\n",
              "                border: none;\n",
              "                /* Needs to be in here for Safari polyfill so background images work as expected. */\n",
              "                background-size: auto;\n",
              "            }\n",
              "        </style>\n",
              "      \n",
              "      <progress value='383' max='383' style='width:300px; height:20px; vertical-align: middle;'></progress>\n",
              "      [383/383 00:44]\n",
              "    </div>\n",
              "    "
            ]
          },
          "metadata": {
            "tags": []
          }
        },
        {
          "output_type": "execute_result",
          "data": {
            "text/plain": [
              "{'eval_loss': 0.40908750891685486,\n",
              " 'eval_accuracy': 0.8118444145136933,\n",
              " 'eval_f1': 0.8108156957257882,\n",
              " 'eval_precision': 0.8100040633064035,\n",
              " 'eval_recall': 0.8118444145136933,\n",
              " 'eval_runtime': 44.383,\n",
              " 'eval_samples_per_second': 552.036,\n",
              " 'epoch': 1.0}"
            ]
          },
          "metadata": {
            "tags": []
          },
          "execution_count": 19
        }
      ]
    },
    {
      "cell_type": "code",
      "metadata": {
        "trusted": true,
        "id": "nREfhgVwqULz"
      },
      "source": [
        "trainer.save_model('rubert-base-cased-conversational-1')"
      ],
      "execution_count": null,
      "outputs": []
    },
    {
      "cell_type": "markdown",
      "metadata": {
        "id": "S_yxX8zcqULz"
      },
      "source": [
        "### Токсичный Берт"
      ]
    },
    {
      "cell_type": "code",
      "metadata": {
        "trusted": true,
        "id": "GmT-0qUmqUL0"
      },
      "source": [
        "model_name2 = 'sismetanin/rubert-toxic-pikabu-2ch'"
      ],
      "execution_count": null,
      "outputs": []
    },
    {
      "cell_type": "code",
      "metadata": {
        "trusted": true,
        "id": "B2pX-TE9qUL0"
      },
      "source": [
        "tokenizer2 = BertTokenizer.from_pretrained(model_name2)\n",
        "model2 = BertForSequenceClassification.from_pretrained(model_name2, num_labels=2)"
      ],
      "execution_count": null,
      "outputs": []
    },
    {
      "cell_type": "code",
      "metadata": {
        "trusted": true,
        "id": "4lsk3NGTqUL0"
      },
      "source": [
        "train_dataset = UnsafeData(x_train, y_train, tokenizer2, max_len = 60)\n",
        "test_dataset = UnsafeData(x_test, y_test, tokenizer2, max_len = 60)"
      ],
      "execution_count": null,
      "outputs": []
    },
    {
      "cell_type": "code",
      "metadata": {
        "trusted": true,
        "id": "BTRXb_vFqUL0"
      },
      "source": [
        "training_args = TrainingArguments(\n",
        "    output_dir='/kaggle/working/bert2',\n",
        "    num_train_epochs=1,\n",
        "    per_device_train_batch_size=64,\n",
        "    per_device_eval_batch_size=64,\n",
        "    logging_steps = 250,\n",
        "    evaluation_strategy = 'steps',\n",
        "    warmup_steps=500,\n",
        "    weight_decay=0.01,\n",
        "    logging_dir='/kaggle/working/bert2/logs',\n",
        "    save_steps = 500,\n",
        "    load_best_model_at_end = True    \n",
        ")"
      ],
      "execution_count": null,
      "outputs": []
    },
    {
      "cell_type": "code",
      "metadata": {
        "trusted": true,
        "id": "3sv-jKqQqUL0"
      },
      "source": [
        "trainer2 = Trainer(\n",
        "    model=model2,\n",
        "    args=training_args,\n",
        "    compute_metrics=compute_metrics,\n",
        "    train_dataset=train_dataset,\n",
        "    eval_dataset=test_dataset\n",
        ")"
      ],
      "execution_count": null,
      "outputs": []
    },
    {
      "cell_type": "code",
      "metadata": {
        "trusted": true,
        "id": "t35BfxbpqTCJ",
        "outputId": "6fe0ebf6-465e-42a9-ecf5-d82035e38d46"
      },
      "source": [
        "trainer2.train()"
      ],
      "execution_count": null,
      "outputs": [
        {
          "output_type": "display_data",
          "data": {
            "text/plain": [
              "<IPython.core.display.HTML object>"
            ],
            "text/html": [
              "\n",
              "    <div>\n",
              "        <style>\n",
              "            /* Turns off some styling */\n",
              "            progress {\n",
              "                /* gets rid of default border in Firefox and Opera. */\n",
              "                border: none;\n",
              "                /* Needs to be in here for Safari polyfill so background images work as expected. */\n",
              "                background-size: auto;\n",
              "            }\n",
              "        </style>\n",
              "      \n",
              "      <progress value='1877' max='1877' style='width:300px; height:20px; vertical-align: middle;'></progress>\n",
              "      [1877/1877 20:10, Epoch 1/1]\n",
              "    </div>\n",
              "    <table border=\"1\" class=\"dataframe\">\n",
              "  <thead>\n",
              "    <tr style=\"text-align: left;\">\n",
              "      <th>Step</th>\n",
              "      <th>Training Loss</th>\n",
              "      <th>Validation Loss</th>\n",
              "      <th>Accuracy</th>\n",
              "      <th>F1</th>\n",
              "      <th>Precision</th>\n",
              "      <th>Recall</th>\n",
              "      <th>Runtime</th>\n",
              "      <th>Samples Per Second</th>\n",
              "    </tr>\n",
              "  </thead>\n",
              "  <tbody>\n",
              "    <tr>\n",
              "      <td>250</td>\n",
              "      <td>0.542300</td>\n",
              "      <td>0.502400</td>\n",
              "      <td>0.750867</td>\n",
              "      <td>0.750583</td>\n",
              "      <td>0.750308</td>\n",
              "      <td>0.750867</td>\n",
              "      <td>44.398700</td>\n",
              "      <td>551.840000</td>\n",
              "    </tr>\n",
              "    <tr>\n",
              "      <td>500</td>\n",
              "      <td>0.446200</td>\n",
              "      <td>0.481260</td>\n",
              "      <td>0.767724</td>\n",
              "      <td>0.748523</td>\n",
              "      <td>0.755767</td>\n",
              "      <td>0.767724</td>\n",
              "      <td>44.390200</td>\n",
              "      <td>551.947000</td>\n",
              "    </tr>\n",
              "    <tr>\n",
              "      <td>750</td>\n",
              "      <td>0.432200</td>\n",
              "      <td>0.469718</td>\n",
              "      <td>0.773519</td>\n",
              "      <td>0.772027</td>\n",
              "      <td>0.770823</td>\n",
              "      <td>0.773519</td>\n",
              "      <td>44.459000</td>\n",
              "      <td>551.092000</td>\n",
              "    </tr>\n",
              "    <tr>\n",
              "      <td>1000</td>\n",
              "      <td>0.417500</td>\n",
              "      <td>0.482890</td>\n",
              "      <td>0.785274</td>\n",
              "      <td>0.773931</td>\n",
              "      <td>0.775797</td>\n",
              "      <td>0.785274</td>\n",
              "      <td>44.637400</td>\n",
              "      <td>548.889000</td>\n",
              "    </tr>\n",
              "    <tr>\n",
              "      <td>1250</td>\n",
              "      <td>0.392600</td>\n",
              "      <td>0.446189</td>\n",
              "      <td>0.786907</td>\n",
              "      <td>0.787545</td>\n",
              "      <td>0.788251</td>\n",
              "      <td>0.786907</td>\n",
              "      <td>44.368700</td>\n",
              "      <td>552.213000</td>\n",
              "    </tr>\n",
              "    <tr>\n",
              "      <td>1500</td>\n",
              "      <td>0.388900</td>\n",
              "      <td>0.454392</td>\n",
              "      <td>0.792743</td>\n",
              "      <td>0.791523</td>\n",
              "      <td>0.790544</td>\n",
              "      <td>0.792743</td>\n",
              "      <td>44.408600</td>\n",
              "      <td>551.718000</td>\n",
              "    </tr>\n",
              "    <tr>\n",
              "      <td>1750</td>\n",
              "      <td>0.379200</td>\n",
              "      <td>0.441300</td>\n",
              "      <td>0.796008</td>\n",
              "      <td>0.793187</td>\n",
              "      <td>0.791603</td>\n",
              "      <td>0.796008</td>\n",
              "      <td>44.382300</td>\n",
              "      <td>552.045000</td>\n",
              "    </tr>\n",
              "  </tbody>\n",
              "</table><p>"
            ]
          },
          "metadata": {
            "tags": []
          }
        },
        {
          "output_type": "execute_result",
          "data": {
            "text/plain": [
              "TrainOutput(global_step=1877, training_loss=0.4238505924897557, metrics={'train_runtime': 1211.3602, 'train_samples_per_second': 1.549, 'total_flos': 7691018384649600, 'epoch': 1.0})"
            ]
          },
          "metadata": {
            "tags": []
          },
          "execution_count": 31
        }
      ]
    },
    {
      "cell_type": "code",
      "metadata": {
        "trusted": true,
        "id": "nJeXFNmwqTCJ",
        "outputId": "fe729e92-0c65-4a04-e6f7-90dc409db546"
      },
      "source": [
        "trainer2.evaluate()"
      ],
      "execution_count": null,
      "outputs": [
        {
          "output_type": "display_data",
          "data": {
            "text/plain": [
              "<IPython.core.display.HTML object>"
            ],
            "text/html": [
              "\n",
              "    <div>\n",
              "        <style>\n",
              "            /* Turns off some styling */\n",
              "            progress {\n",
              "                /* gets rid of default border in Firefox and Opera. */\n",
              "                border: none;\n",
              "                /* Needs to be in here for Safari polyfill so background images work as expected. */\n",
              "                background-size: auto;\n",
              "            }\n",
              "        </style>\n",
              "      \n",
              "      <progress value='383' max='383' style='width:300px; height:20px; vertical-align: middle;'></progress>\n",
              "      [383/383 00:44]\n",
              "    </div>\n",
              "    "
            ]
          },
          "metadata": {
            "tags": []
          }
        },
        {
          "output_type": "execute_result",
          "data": {
            "text/plain": [
              "{'eval_loss': 0.4412999153137207,\n",
              " 'eval_accuracy': 0.7960083261907678,\n",
              " 'eval_f1': 0.7931873626954754,\n",
              " 'eval_precision': 0.7916032416799048,\n",
              " 'eval_recall': 0.7960083261907678,\n",
              " 'eval_runtime': 44.4463,\n",
              " 'eval_samples_per_second': 551.25,\n",
              " 'epoch': 1.0}"
            ]
          },
          "metadata": {
            "tags": []
          },
          "execution_count": 32
        }
      ]
    },
    {
      "cell_type": "code",
      "metadata": {
        "trusted": true,
        "id": "D-6-XCiqqUL1"
      },
      "source": [
        "trainer2.save_model('rubert-toxic-pikabu-2ch-1')"
      ],
      "execution_count": null,
      "outputs": []
    },
    {
      "cell_type": "markdown",
      "metadata": {
        "id": "vVqrZHFCqUL1"
      },
      "source": [
        "### Мультиязычный Берт"
      ]
    },
    {
      "cell_type": "code",
      "metadata": {
        "trusted": true,
        "id": "htY-YGtiqUL1"
      },
      "source": [
        "model_name3 = 'bert-base-multilingual-cased'"
      ],
      "execution_count": null,
      "outputs": []
    },
    {
      "cell_type": "code",
      "metadata": {
        "trusted": true,
        "id": "6n3Sj-vkqUL2"
      },
      "source": [
        "tokenizer3 = BertTokenizer.from_pretrained(model_name3)\n",
        "model3 = BertForSequenceClassification.from_pretrained(model_name3)"
      ],
      "execution_count": null,
      "outputs": []
    },
    {
      "cell_type": "code",
      "metadata": {
        "trusted": true,
        "id": "3NUpF8R2qUL2"
      },
      "source": [
        "train_dataset = UnsafeData(x_train, y_train, tokenizer3, max_len = 60)\n",
        "test_dataset = UnsafeData(x_test, y_test, tokenizer3, max_len = 60)"
      ],
      "execution_count": null,
      "outputs": []
    },
    {
      "cell_type": "code",
      "metadata": {
        "trusted": true,
        "id": "AUrB35b_qUL2"
      },
      "source": [
        "training_args = TrainingArguments(\n",
        "    output_dir='/kaggle/working/bert3',\n",
        "    num_train_epochs=1,\n",
        "    per_device_train_batch_size=64,\n",
        "    per_device_eval_batch_size=64,\n",
        "    logging_steps = 250,\n",
        "    evaluation_strategy = 'steps',\n",
        "    warmup_steps=500,\n",
        "    weight_decay=0.01,\n",
        "    logging_dir='/kaggle/working/bert3/logs',\n",
        "    save_steps = 500,\n",
        "    load_best_model_at_end = True    \n",
        ")"
      ],
      "execution_count": null,
      "outputs": []
    },
    {
      "cell_type": "code",
      "metadata": {
        "trusted": true,
        "id": "iGa7cRdcqUL2"
      },
      "source": [
        "trainer3 = Trainer(\n",
        "    model=model3,\n",
        "    args=training_args,\n",
        "    compute_metrics=compute_metrics,\n",
        "    train_dataset=train_dataset,\n",
        "    eval_dataset=test_dataset\n",
        ")"
      ],
      "execution_count": null,
      "outputs": []
    },
    {
      "cell_type": "code",
      "metadata": {
        "trusted": true,
        "id": "P8QnzqhkqTCL",
        "outputId": "ec46d066-12df-45ea-9f27-235f097368c6"
      },
      "source": [
        "trainer3.train()"
      ],
      "execution_count": null,
      "outputs": [
        {
          "output_type": "display_data",
          "data": {
            "text/plain": [
              "<IPython.core.display.HTML object>"
            ],
            "text/html": [
              "\n",
              "    <div>\n",
              "        <style>\n",
              "            /* Turns off some styling */\n",
              "            progress {\n",
              "                /* gets rid of default border in Firefox and Opera. */\n",
              "                border: none;\n",
              "                /* Needs to be in here for Safari polyfill so background images work as expected. */\n",
              "                background-size: auto;\n",
              "            }\n",
              "        </style>\n",
              "      \n",
              "      <progress value='1877' max='1877' style='width:300px; height:20px; vertical-align: middle;'></progress>\n",
              "      [1877/1877 19:51, Epoch 1/1]\n",
              "    </div>\n",
              "    <table border=\"1\" class=\"dataframe\">\n",
              "  <thead>\n",
              "    <tr style=\"text-align: left;\">\n",
              "      <th>Step</th>\n",
              "      <th>Training Loss</th>\n",
              "      <th>Validation Loss</th>\n",
              "      <th>Accuracy</th>\n",
              "      <th>F1</th>\n",
              "      <th>Precision</th>\n",
              "      <th>Recall</th>\n",
              "      <th>Runtime</th>\n",
              "      <th>Samples Per Second</th>\n",
              "    </tr>\n",
              "  </thead>\n",
              "  <tbody>\n",
              "    <tr>\n",
              "      <td>250</td>\n",
              "      <td>0.564400</td>\n",
              "      <td>0.537485</td>\n",
              "      <td>0.723277</td>\n",
              "      <td>0.716637</td>\n",
              "      <td>0.712860</td>\n",
              "      <td>0.723277</td>\n",
              "      <td>44.578000</td>\n",
              "      <td>549.620000</td>\n",
              "    </tr>\n",
              "    <tr>\n",
              "      <td>500</td>\n",
              "      <td>0.494100</td>\n",
              "      <td>0.510846</td>\n",
              "      <td>0.742582</td>\n",
              "      <td>0.737213</td>\n",
              "      <td>0.734180</td>\n",
              "      <td>0.742582</td>\n",
              "      <td>44.358900</td>\n",
              "      <td>552.336000</td>\n",
              "    </tr>\n",
              "    <tr>\n",
              "      <td>750</td>\n",
              "      <td>0.472400</td>\n",
              "      <td>0.494198</td>\n",
              "      <td>0.761602</td>\n",
              "      <td>0.753360</td>\n",
              "      <td>0.751125</td>\n",
              "      <td>0.761602</td>\n",
              "      <td>44.331500</td>\n",
              "      <td>552.676000</td>\n",
              "    </tr>\n",
              "    <tr>\n",
              "      <td>1000</td>\n",
              "      <td>0.457800</td>\n",
              "      <td>0.533611</td>\n",
              "      <td>0.767152</td>\n",
              "      <td>0.755627</td>\n",
              "      <td>0.755381</td>\n",
              "      <td>0.767152</td>\n",
              "      <td>44.384200</td>\n",
              "      <td>552.020000</td>\n",
              "    </tr>\n",
              "    <tr>\n",
              "      <td>1250</td>\n",
              "      <td>0.437700</td>\n",
              "      <td>0.479622</td>\n",
              "      <td>0.770499</td>\n",
              "      <td>0.764939</td>\n",
              "      <td>0.762651</td>\n",
              "      <td>0.770499</td>\n",
              "      <td>44.358000</td>\n",
              "      <td>552.347000</td>\n",
              "    </tr>\n",
              "    <tr>\n",
              "      <td>1500</td>\n",
              "      <td>0.423300</td>\n",
              "      <td>0.496130</td>\n",
              "      <td>0.777887</td>\n",
              "      <td>0.768942</td>\n",
              "      <td>0.768148</td>\n",
              "      <td>0.777887</td>\n",
              "      <td>44.688000</td>\n",
              "      <td>548.268000</td>\n",
              "    </tr>\n",
              "    <tr>\n",
              "      <td>1750</td>\n",
              "      <td>0.410700</td>\n",
              "      <td>0.470671</td>\n",
              "      <td>0.780580</td>\n",
              "      <td>0.770685</td>\n",
              "      <td>0.770759</td>\n",
              "      <td>0.780580</td>\n",
              "      <td>44.789400</td>\n",
              "      <td>547.027000</td>\n",
              "    </tr>\n",
              "  </tbody>\n",
              "</table><p>"
            ]
          },
          "metadata": {
            "tags": []
          }
        },
        {
          "output_type": "execute_result",
          "data": {
            "text/plain": [
              "TrainOutput(global_step=1877, training_loss=0.46105092068460307, metrics={'train_runtime': 1192.2598, 'train_samples_per_second': 1.574, 'total_flos': 7691018384649600, 'epoch': 1.0})"
            ]
          },
          "metadata": {
            "tags": []
          },
          "execution_count": 41
        }
      ]
    },
    {
      "cell_type": "code",
      "metadata": {
        "trusted": true,
        "id": "5PFvjX1ZqTCL",
        "outputId": "6ec8ff59-aa84-485e-b457-2e3a90ec7684"
      },
      "source": [
        "trainer3.evaluate()"
      ],
      "execution_count": null,
      "outputs": [
        {
          "output_type": "display_data",
          "data": {
            "text/plain": [
              "<IPython.core.display.HTML object>"
            ],
            "text/html": [
              "\n",
              "    <div>\n",
              "        <style>\n",
              "            /* Turns off some styling */\n",
              "            progress {\n",
              "                /* gets rid of default border in Firefox and Opera. */\n",
              "                border: none;\n",
              "                /* Needs to be in here for Safari polyfill so background images work as expected. */\n",
              "                background-size: auto;\n",
              "            }\n",
              "        </style>\n",
              "      \n",
              "      <progress value='383' max='383' style='width:300px; height:20px; vertical-align: middle;'></progress>\n",
              "      [383/383 00:44]\n",
              "    </div>\n",
              "    "
            ]
          },
          "metadata": {
            "tags": []
          }
        },
        {
          "output_type": "execute_result",
          "data": {
            "text/plain": [
              "{'eval_loss': 0.47067052125930786,\n",
              " 'eval_accuracy': 0.780580384474103,\n",
              " 'eval_f1': 0.7706852379297162,\n",
              " 'eval_precision': 0.7707590875588345,\n",
              " 'eval_recall': 0.780580384474103,\n",
              " 'eval_runtime': 44.3899,\n",
              " 'eval_samples_per_second': 551.95,\n",
              " 'epoch': 1.0}"
            ]
          },
          "metadata": {
            "tags": []
          },
          "execution_count": 42
        }
      ]
    },
    {
      "cell_type": "code",
      "metadata": {
        "trusted": true,
        "id": "ax2dxMHSqUL3"
      },
      "source": [
        "trainer3.save_model('bert-base-multilingual-cased-1')"
      ],
      "execution_count": null,
      "outputs": []
    },
    {
      "cell_type": "markdown",
      "metadata": {
        "id": "NCM2xxpJqUL3"
      },
      "source": [
        "### GPT"
      ]
    },
    {
      "cell_type": "code",
      "metadata": {
        "trusted": true,
        "id": "fbq9ZntIqUL3"
      },
      "source": [
        "model_name4 = 'sberbank-ai/rugpt3medium_based_on_gpt2'"
      ],
      "execution_count": null,
      "outputs": []
    },
    {
      "cell_type": "code",
      "metadata": {
        "trusted": true,
        "colab": {
          "referenced_widgets": [
            "27c0e20d82224d619686f672afee7d6a",
            "54256b7e27764d38a27785598e64947c",
            "0729a3282de048a994bc4d8dea3de1b5",
            "5d054617c9b34224ac8e65928d1d2b7f"
          ]
        },
        "id": "F1OSH74WqUL3",
        "outputId": "3fcfbaa1-9384-4d58-8975-eb3ab6a1216a"
      },
      "source": [
        "tokenizer4 = GPT2TokenizerFast.from_pretrained(model_name4)\n",
        "model4 = GPT2ForSequenceClassification.from_pretrained(model_name4, num_labels=2)"
      ],
      "execution_count": null,
      "outputs": [
        {
          "output_type": "display_data",
          "data": {
            "text/plain": [
              "Downloading:   0%|          | 0.00/1.61M [00:00<?, ?B/s]"
            ],
            "application/vnd.jupyter.widget-view+json": {
              "version_major": 2,
              "version_minor": 0,
              "model_id": "27c0e20d82224d619686f672afee7d6a"
            }
          },
          "metadata": {
            "tags": []
          }
        },
        {
          "output_type": "display_data",
          "data": {
            "text/plain": [
              "Downloading:   0%|          | 0.00/1.27M [00:00<?, ?B/s]"
            ],
            "application/vnd.jupyter.widget-view+json": {
              "version_major": 2,
              "version_minor": 0,
              "model_id": "54256b7e27764d38a27785598e64947c"
            }
          },
          "metadata": {
            "tags": []
          }
        },
        {
          "output_type": "stream",
          "text": [
            "Special tokens have been added in the vocabulary, make sure the associated word embedding are fine-tuned or trained.\n"
          ],
          "name": "stderr"
        },
        {
          "output_type": "display_data",
          "data": {
            "text/plain": [
              "Downloading:   0%|          | 0.00/674 [00:00<?, ?B/s]"
            ],
            "application/vnd.jupyter.widget-view+json": {
              "version_major": 2,
              "version_minor": 0,
              "model_id": "0729a3282de048a994bc4d8dea3de1b5"
            }
          },
          "metadata": {
            "tags": []
          }
        },
        {
          "output_type": "display_data",
          "data": {
            "text/plain": [
              "Downloading:   0%|          | 0.00/1.73G [00:00<?, ?B/s]"
            ],
            "application/vnd.jupyter.widget-view+json": {
              "version_major": 2,
              "version_minor": 0,
              "model_id": "5d054617c9b34224ac8e65928d1d2b7f"
            }
          },
          "metadata": {
            "tags": []
          }
        },
        {
          "output_type": "stream",
          "text": [
            "Some weights of the model checkpoint at sberbank-ai/rugpt3medium_based_on_gpt2 were not used when initializing GPT2ForSequenceClassification: ['lm_head.weight']\n",
            "- This IS expected if you are initializing GPT2ForSequenceClassification from the checkpoint of a model trained on another task or with another architecture (e.g. initializing a BertForSequenceClassification model from a BertForPreTraining model).\n",
            "- This IS NOT expected if you are initializing GPT2ForSequenceClassification from the checkpoint of a model that you expect to be exactly identical (initializing a BertForSequenceClassification model from a BertForSequenceClassification model).\n",
            "Some weights of GPT2ForSequenceClassification were not initialized from the model checkpoint at sberbank-ai/rugpt3medium_based_on_gpt2 and are newly initialized: ['score.weight']\n",
            "You should probably TRAIN this model on a down-stream task to be able to use it for predictions and inference.\n"
          ],
          "name": "stderr"
        }
      ]
    },
    {
      "cell_type": "code",
      "metadata": {
        "trusted": true,
        "id": "EUPexOpwqUL4"
      },
      "source": [
        "tokenizer4.pad_token = '<pad>'\n",
        "model4.config.pad_token_id = 0"
      ],
      "execution_count": null,
      "outputs": []
    },
    {
      "cell_type": "code",
      "metadata": {
        "trusted": true,
        "id": "Wi8DrSUiqUL4"
      },
      "source": [
        "train_dataset = UnsafeData(x_train, y_train, tokenizer4, max_len = 60)\n",
        "test_dataset = UnsafeData(x_test, y_test, tokenizer4, max_len = 60)"
      ],
      "execution_count": null,
      "outputs": []
    },
    {
      "cell_type": "code",
      "metadata": {
        "trusted": true,
        "id": "rUjsuqKzqUL4",
        "outputId": "d8c3826e-a068-4c8f-8385-c8e808447fe2"
      },
      "source": [
        "train_dataset[23000]"
      ],
      "execution_count": null,
      "outputs": [
        {
          "output_type": "execute_result",
          "data": {
            "text/plain": [
              "{'input_ids': tensor([  404, 45601, 18387,    16,   374,   505,  2156,  4155, 21691,    18,\n",
              "         10118,    16,   374,   492,   282, 13331,  7757,    16,   367,  1122,\n",
              "           726,   289,  4181,   375,   282, 17570,  4172,  5920,  5346,   289,\n",
              "          4136,    17,  1796, 47643, 12904,   289, 17664, 30809,   449,  1369,\n",
              "          1262,   282, 44999,     0,     0,     0,     0,     0,     0,     0,\n",
              "             0,     0,     0,     0,     0,     0,     0,     0,     0,     0]),\n",
              " 'attention_mask': tensor([1, 1, 1, 1, 1, 1, 1, 1, 1, 1, 1, 1, 1, 1, 1, 1, 1, 1, 1, 1, 1, 1, 1, 1,\n",
              "         1, 1, 1, 1, 1, 1, 1, 1, 1, 1, 1, 1, 1, 1, 1, 1, 1, 1, 1, 0, 0, 0, 0, 0,\n",
              "         0, 0, 0, 0, 0, 0, 0, 0, 0, 0, 0, 0]),\n",
              " 'labels': tensor(1)}"
            ]
          },
          "metadata": {
            "tags": []
          },
          "execution_count": 13
        }
      ]
    },
    {
      "cell_type": "code",
      "metadata": {
        "trusted": true,
        "id": "H95q8FsdqUL5"
      },
      "source": [
        "training_args = TrainingArguments(\n",
        "    output_dir='/kaggle/working/gpt',\n",
        "    num_train_epochs=1,\n",
        "    per_device_train_batch_size=32,\n",
        "    per_device_eval_batch_size=32,\n",
        "    logging_steps = 500,\n",
        "    evaluation_strategy = 'steps',\n",
        "    warmup_steps=500,\n",
        "    weight_decay=0.01,\n",
        "    logging_dir='/kaggle/working/gpt/logs',\n",
        "    save_steps = 3000,\n",
        "    #load_best_model_at_end = True    \n",
        ")"
      ],
      "execution_count": null,
      "outputs": []
    },
    {
      "cell_type": "code",
      "metadata": {
        "trusted": true,
        "id": "yRj8NGsMqUL5"
      },
      "source": [
        "model4.is_parallelizable = False"
      ],
      "execution_count": null,
      "outputs": []
    },
    {
      "cell_type": "code",
      "metadata": {
        "trusted": true,
        "id": "LR-2d0-NqUL5",
        "outputId": "fdc96355-c93d-4599-e4c0-8da53a67ab49"
      },
      "source": [
        "trainer4 = Trainer(\n",
        "    model=model4,\n",
        "    args=training_args,\n",
        "    compute_metrics=compute_metrics,\n",
        "    train_dataset=train_dataset,\n",
        "    eval_dataset=test_dataset\n",
        ")"
      ],
      "execution_count": null,
      "outputs": [
        {
          "output_type": "stream",
          "text": [
            "W&B installed but not logged in. Run `wandb login` or set the WANDB_API_KEY env variable.\n"
          ],
          "name": "stderr"
        }
      ]
    },
    {
      "cell_type": "code",
      "metadata": {
        "trusted": true,
        "id": "lBK_DDpWqUL5",
        "outputId": "8a703a3d-4080-47ed-f5ee-814d1b4fa51c"
      },
      "source": [
        "trainer4.train()"
      ],
      "execution_count": null,
      "outputs": [
        {
          "output_type": "display_data",
          "data": {
            "text/plain": [
              "<IPython.core.display.HTML object>"
            ],
            "text/html": [
              "\n",
              "    <div>\n",
              "        <style>\n",
              "            /* Turns off some styling */\n",
              "            progress {\n",
              "                /* gets rid of default border in Firefox and Opera. */\n",
              "                border: none;\n",
              "                /* Needs to be in here for Safari polyfill so background images work as expected. */\n",
              "                background-size: auto;\n",
              "            }\n",
              "        </style>\n",
              "      \n",
              "      <progress value='3754' max='3754' style='width:300px; height:20px; vertical-align: middle;'></progress>\n",
              "      [3754/3754 1:10:28, Epoch 1/1]\n",
              "    </div>\n",
              "    <table border=\"1\" class=\"dataframe\">\n",
              "  <thead>\n",
              "    <tr style=\"text-align: left;\">\n",
              "      <th>Step</th>\n",
              "      <th>Training Loss</th>\n",
              "      <th>Validation Loss</th>\n",
              "      <th>Accuracy</th>\n",
              "      <th>F1</th>\n",
              "      <th>Precision</th>\n",
              "      <th>Recall</th>\n",
              "      <th>Runtime</th>\n",
              "      <th>Samples Per Second</th>\n",
              "    </tr>\n",
              "  </thead>\n",
              "  <tbody>\n",
              "    <tr>\n",
              "      <td>500</td>\n",
              "      <td>0.449700</td>\n",
              "      <td>0.514598</td>\n",
              "      <td>0.762540</td>\n",
              "      <td>0.725942</td>\n",
              "      <td>0.760833</td>\n",
              "      <td>0.762540</td>\n",
              "      <td>188.885200</td>\n",
              "      <td>129.714000</td>\n",
              "    </tr>\n",
              "    <tr>\n",
              "      <td>1000</td>\n",
              "      <td>0.386700</td>\n",
              "      <td>0.452288</td>\n",
              "      <td>0.786703</td>\n",
              "      <td>0.783783</td>\n",
              "      <td>0.782053</td>\n",
              "      <td>0.786703</td>\n",
              "      <td>188.137200</td>\n",
              "      <td>130.229000</td>\n",
              "    </tr>\n",
              "    <tr>\n",
              "      <td>1500</td>\n",
              "      <td>0.374200</td>\n",
              "      <td>0.424989</td>\n",
              "      <td>0.801845</td>\n",
              "      <td>0.800154</td>\n",
              "      <td>0.798966</td>\n",
              "      <td>0.801845</td>\n",
              "      <td>187.924400</td>\n",
              "      <td>130.377000</td>\n",
              "    </tr>\n",
              "    <tr>\n",
              "      <td>2000</td>\n",
              "      <td>0.366200</td>\n",
              "      <td>0.433921</td>\n",
              "      <td>0.804743</td>\n",
              "      <td>0.797204</td>\n",
              "      <td>0.797745</td>\n",
              "      <td>0.804743</td>\n",
              "      <td>187.845000</td>\n",
              "      <td>130.432000</td>\n",
              "    </tr>\n",
              "    <tr>\n",
              "      <td>2500</td>\n",
              "      <td>0.350000</td>\n",
              "      <td>0.418852</td>\n",
              "      <td>0.808089</td>\n",
              "      <td>0.808487</td>\n",
              "      <td>0.808919</td>\n",
              "      <td>0.808089</td>\n",
              "      <td>187.828400</td>\n",
              "      <td>130.444000</td>\n",
              "    </tr>\n",
              "    <tr>\n",
              "      <td>3000</td>\n",
              "      <td>0.341000</td>\n",
              "      <td>0.412172</td>\n",
              "      <td>0.814497</td>\n",
              "      <td>0.813299</td>\n",
              "      <td>0.812402</td>\n",
              "      <td>0.814497</td>\n",
              "      <td>187.949500</td>\n",
              "      <td>130.359000</td>\n",
              "    </tr>\n",
              "    <tr>\n",
              "      <td>3500</td>\n",
              "      <td>0.332400</td>\n",
              "      <td>0.404389</td>\n",
              "      <td>0.816252</td>\n",
              "      <td>0.813831</td>\n",
              "      <td>0.812587</td>\n",
              "      <td>0.816252</td>\n",
              "      <td>188.001500</td>\n",
              "      <td>130.323000</td>\n",
              "    </tr>\n",
              "  </tbody>\n",
              "</table><p>"
            ]
          },
          "metadata": {
            "tags": []
          }
        },
        {
          "output_type": "execute_result",
          "data": {
            "text/plain": [
              "TrainOutput(global_step=3754, training_loss=0.36774657772269476, metrics={'train_runtime': 4230.5572, 'train_samples_per_second': 0.887, 'total_flos': 15389121562214400, 'epoch': 1.0})"
            ]
          },
          "metadata": {
            "tags": []
          },
          "execution_count": 17
        }
      ]
    },
    {
      "cell_type": "code",
      "metadata": {
        "trusted": true,
        "id": "6O1hFqJtqUL6",
        "outputId": "228266dd-24ae-4686-d591-0685ce2ab041"
      },
      "source": [
        "trainer4.evaluate()"
      ],
      "execution_count": null,
      "outputs": [
        {
          "output_type": "display_data",
          "data": {
            "text/plain": [
              "<IPython.core.display.HTML object>"
            ],
            "text/html": [
              "\n",
              "    <div>\n",
              "        <style>\n",
              "            /* Turns off some styling */\n",
              "            progress {\n",
              "                /* gets rid of default border in Firefox and Opera. */\n",
              "                border: none;\n",
              "                /* Needs to be in here for Safari polyfill so background images work as expected. */\n",
              "                background-size: auto;\n",
              "            }\n",
              "        </style>\n",
              "      \n",
              "      <progress value='766' max='766' style='width:300px; height:20px; vertical-align: middle;'></progress>\n",
              "      [766/766 03:07]\n",
              "    </div>\n",
              "    "
            ]
          },
          "metadata": {
            "tags": []
          }
        },
        {
          "output_type": "execute_result",
          "data": {
            "text/plain": [
              "{'eval_loss': 0.4090506136417389,\n",
              " 'eval_accuracy': 0.8171095057344598,\n",
              " 'eval_f1': 0.814694757221525,\n",
              " 'eval_precision': 0.8134638453515362,\n",
              " 'eval_recall': 0.8171095057344598,\n",
              " 'eval_runtime': 188.2163,\n",
              " 'eval_samples_per_second': 130.175,\n",
              " 'epoch': 1.0}"
            ]
          },
          "metadata": {
            "tags": []
          },
          "execution_count": 18
        }
      ]
    },
    {
      "cell_type": "code",
      "metadata": {
        "trusted": true,
        "id": "whSaaRnRqUL6"
      },
      "source": [
        "trainer4.save_model('rugpt3medium_based_on_gpt2-1')"
      ],
      "execution_count": null,
      "outputs": []
    },
    {
      "cell_type": "code",
      "metadata": {
        "trusted": true,
        "id": "5jLeq-WJqUL6"
      },
      "source": [
        "import gc\n",
        "gc.collect()\n",
        "torch.cuda.empty_cache()"
      ],
      "execution_count": null,
      "outputs": []
    },
    {
      "cell_type": "markdown",
      "metadata": {
        "id": "EUHVsWy9qUL6"
      },
      "source": [
        "### Роберта"
      ]
    },
    {
      "cell_type": "code",
      "metadata": {
        "trusted": true,
        "id": "vtk-Q3OiqUL7"
      },
      "source": [
        "model_name5 = 'blinoff/roberta-base-russian-v0'"
      ],
      "execution_count": null,
      "outputs": []
    },
    {
      "cell_type": "code",
      "metadata": {
        "trusted": true,
        "id": "j1lx70tmqUL7",
        "outputId": "53710d3f-f25f-4cb5-b216-9bf536d8060e"
      },
      "source": [
        "tokenizer5 = AutoTokenizer.from_pretrained(model_name5)\n",
        "model5 = AutoModelForSequenceClassification.from_pretrained(model_name5, num_labels=2)"
      ],
      "execution_count": null,
      "outputs": [
        {
          "output_type": "stream",
          "text": [
            "Some weights of the model checkpoint at blinoff/roberta-base-russian-v0 were not used when initializing RobertaForSequenceClassification: ['lm_head.bias', 'lm_head.dense.weight', 'lm_head.dense.bias', 'lm_head.layer_norm.weight', 'lm_head.layer_norm.bias', 'lm_head.decoder.weight', 'lm_head.decoder.bias', 'roberta.pooler.dense.weight', 'roberta.pooler.dense.bias']\n",
            "- This IS expected if you are initializing RobertaForSequenceClassification from the checkpoint of a model trained on another task or with another architecture (e.g. initializing a BertForSequenceClassification model from a BertForPreTraining model).\n",
            "- This IS NOT expected if you are initializing RobertaForSequenceClassification from the checkpoint of a model that you expect to be exactly identical (initializing a BertForSequenceClassification model from a BertForSequenceClassification model).\n",
            "Some weights of RobertaForSequenceClassification were not initialized from the model checkpoint at blinoff/roberta-base-russian-v0 and are newly initialized: ['classifier.dense.weight', 'classifier.dense.bias', 'classifier.out_proj.weight', 'classifier.out_proj.bias']\n",
            "You should probably TRAIN this model on a down-stream task to be able to use it for predictions and inference.\n"
          ],
          "name": "stderr"
        }
      ]
    },
    {
      "cell_type": "code",
      "metadata": {
        "trusted": true,
        "id": "va9Wm3DkqUL7"
      },
      "source": [
        "train_dataset = UnsafeData(x_train, y_train, tokenizer5, max_len = 60)\n",
        "test_dataset = UnsafeData(x_test, y_test, tokenizer5, max_len = 60)"
      ],
      "execution_count": null,
      "outputs": []
    },
    {
      "cell_type": "code",
      "metadata": {
        "trusted": true,
        "id": "-T8UUjvBqUL7",
        "outputId": "28b2f6b3-8d63-4620-ec65-1055db31b8a1"
      },
      "source": [
        "train_dataset[23000]"
      ],
      "execution_count": null,
      "outputs": [
        {
          "output_type": "execute_result",
          "data": {
            "text/plain": [
              "{'input_ids': tensor([    0,   340, 21880, 14563,    16,   392,   508,  1887,  6878,  9687,\n",
              "            18,   225,   145,   246,  3078,   563,    16,   392,   457,   283,\n",
              "         12555,  6447,    16,   225,   145,   113,   845,   644,   292, 45871,\n",
              "           283, 10118,   340, 28478,   292,  2715,    17,  1734, 40008,  3952,\n",
              "           292, 14301, 28005,  1281,   488,   728,   872,   283, 34457,     2,\n",
              "             1,     1,     1,     1,     1,     1,     1,     1,     1,     1]),\n",
              " 'attention_mask': tensor([1, 1, 1, 1, 1, 1, 1, 1, 1, 1, 1, 1, 1, 1, 1, 1, 1, 1, 1, 1, 1, 1, 1, 1,\n",
              "         1, 1, 1, 1, 1, 1, 1, 1, 1, 1, 1, 1, 1, 1, 1, 1, 1, 1, 1, 1, 1, 1, 1, 1,\n",
              "         1, 1, 0, 0, 0, 0, 0, 0, 0, 0, 0, 0]),\n",
              " 'labels': tensor(1)}"
            ]
          },
          "metadata": {
            "tags": []
          },
          "execution_count": 23
        }
      ]
    },
    {
      "cell_type": "code",
      "metadata": {
        "trusted": true,
        "id": "nRGDLWJ_qUL7"
      },
      "source": [
        "training_args = TrainingArguments(\n",
        "    output_dir='/kaggle/working/roberta',\n",
        "    num_train_epochs=1,\n",
        "    per_device_train_batch_size=64,\n",
        "    per_device_eval_batch_size=64,\n",
        "    logging_steps = 250,\n",
        "    evaluation_strategy = 'steps',\n",
        "    warmup_steps=500,\n",
        "    weight_decay=0.01,\n",
        "    logging_dir='/kaggle/working/roberta/logs',\n",
        "    save_steps = 500,\n",
        "    load_best_model_at_end = True    \n",
        ")"
      ],
      "execution_count": null,
      "outputs": []
    },
    {
      "cell_type": "code",
      "metadata": {
        "trusted": true,
        "id": "rc1qFCN0qUL8",
        "outputId": "fff2b874-08c2-4104-830f-70944862a080"
      },
      "source": [
        "trainer5 = Trainer(\n",
        "    model=model5,\n",
        "    args=training_args,\n",
        "    compute_metrics=compute_metrics,\n",
        "    train_dataset=train_dataset,\n",
        "    eval_dataset=test_dataset\n",
        ")"
      ],
      "execution_count": null,
      "outputs": [
        {
          "output_type": "stream",
          "text": [
            "W&B installed but not logged in. Run `wandb login` or set the WANDB_API_KEY env variable.\n"
          ],
          "name": "stderr"
        }
      ]
    },
    {
      "cell_type": "code",
      "metadata": {
        "trusted": true,
        "id": "WlH2-xzZqUL8",
        "outputId": "0a56db3b-7f53-4532-db1e-07e36a0e8a59"
      },
      "source": [
        "trainer5.train()"
      ],
      "execution_count": null,
      "outputs": [
        {
          "output_type": "display_data",
          "data": {
            "text/plain": [
              "<IPython.core.display.HTML object>"
            ],
            "text/html": [
              "\n",
              "    <div>\n",
              "        <style>\n",
              "            /* Turns off some styling */\n",
              "            progress {\n",
              "                /* gets rid of default border in Firefox and Opera. */\n",
              "                border: none;\n",
              "                /* Needs to be in here for Safari polyfill so background images work as expected. */\n",
              "                background-size: auto;\n",
              "            }\n",
              "        </style>\n",
              "      \n",
              "      <progress value='1877' max='1877' style='width:300px; height:20px; vertical-align: middle;'></progress>\n",
              "      [1877/1877 18:22, Epoch 1/1]\n",
              "    </div>\n",
              "    <table border=\"1\" class=\"dataframe\">\n",
              "  <thead>\n",
              "    <tr style=\"text-align: left;\">\n",
              "      <th>Step</th>\n",
              "      <th>Training Loss</th>\n",
              "      <th>Validation Loss</th>\n",
              "      <th>Accuracy</th>\n",
              "      <th>F1</th>\n",
              "      <th>Precision</th>\n",
              "      <th>Recall</th>\n",
              "      <th>Runtime</th>\n",
              "      <th>Samples Per Second</th>\n",
              "    </tr>\n",
              "  </thead>\n",
              "  <tbody>\n",
              "    <tr>\n",
              "      <td>250</td>\n",
              "      <td>0.578600</td>\n",
              "      <td>0.601927</td>\n",
              "      <td>0.660096</td>\n",
              "      <td>0.661018</td>\n",
              "      <td>0.661983</td>\n",
              "      <td>0.660096</td>\n",
              "      <td>44.625800</td>\n",
              "      <td>549.033000</td>\n",
              "    </tr>\n",
              "    <tr>\n",
              "      <td>500</td>\n",
              "      <td>0.551700</td>\n",
              "      <td>0.588827</td>\n",
              "      <td>0.656953</td>\n",
              "      <td>0.670227</td>\n",
              "      <td>0.706609</td>\n",
              "      <td>0.656953</td>\n",
              "      <td>44.619700</td>\n",
              "      <td>549.108000</td>\n",
              "    </tr>\n",
              "    <tr>\n",
              "      <td>750</td>\n",
              "      <td>0.513700</td>\n",
              "      <td>0.531183</td>\n",
              "      <td>0.735113</td>\n",
              "      <td>0.721182</td>\n",
              "      <td>0.718657</td>\n",
              "      <td>0.735113</td>\n",
              "      <td>44.574700</td>\n",
              "      <td>549.662000</td>\n",
              "    </tr>\n",
              "    <tr>\n",
              "      <td>1000</td>\n",
              "      <td>0.498700</td>\n",
              "      <td>0.564144</td>\n",
              "      <td>0.736582</td>\n",
              "      <td>0.684643</td>\n",
              "      <td>0.726500</td>\n",
              "      <td>0.736582</td>\n",
              "      <td>44.568400</td>\n",
              "      <td>549.739000</td>\n",
              "    </tr>\n",
              "    <tr>\n",
              "      <td>1250</td>\n",
              "      <td>0.482200</td>\n",
              "      <td>0.511923</td>\n",
              "      <td>0.745602</td>\n",
              "      <td>0.740826</td>\n",
              "      <td>0.737994</td>\n",
              "      <td>0.745602</td>\n",
              "      <td>44.573500</td>\n",
              "      <td>549.676000</td>\n",
              "    </tr>\n",
              "    <tr>\n",
              "      <td>1500</td>\n",
              "      <td>0.471700</td>\n",
              "      <td>0.518572</td>\n",
              "      <td>0.748541</td>\n",
              "      <td>0.745081</td>\n",
              "      <td>0.742725</td>\n",
              "      <td>0.748541</td>\n",
              "      <td>44.580300</td>\n",
              "      <td>549.592000</td>\n",
              "    </tr>\n",
              "    <tr>\n",
              "      <td>1750</td>\n",
              "      <td>0.463900</td>\n",
              "      <td>0.506725</td>\n",
              "      <td>0.754459</td>\n",
              "      <td>0.746256</td>\n",
              "      <td>0.743611</td>\n",
              "      <td>0.754459</td>\n",
              "      <td>44.563100</td>\n",
              "      <td>549.805000</td>\n",
              "    </tr>\n",
              "  </tbody>\n",
              "</table><p>"
            ]
          },
          "metadata": {
            "tags": []
          }
        },
        {
          "output_type": "execute_result",
          "data": {
            "text/plain": [
              "TrainOutput(global_step=1877, training_loss=0.5044689920269941, metrics={'train_runtime': 1103.7289, 'train_samples_per_second': 1.701, 'total_flos': 5382039072009600, 'epoch': 1.0})"
            ]
          },
          "metadata": {
            "tags": []
          },
          "execution_count": 27
        }
      ]
    },
    {
      "cell_type": "code",
      "metadata": {
        "trusted": true,
        "id": "_iQM8TUPqUL8",
        "outputId": "2b4ad5c1-9303-4136-bb04-ef4a8a7504eb"
      },
      "source": [
        "trainer5.evaluate()"
      ],
      "execution_count": null,
      "outputs": [
        {
          "output_type": "display_data",
          "data": {
            "text/plain": [
              "<IPython.core.display.HTML object>"
            ],
            "text/html": [
              "\n",
              "    <div>\n",
              "        <style>\n",
              "            /* Turns off some styling */\n",
              "            progress {\n",
              "                /* gets rid of default border in Firefox and Opera. */\n",
              "                border: none;\n",
              "                /* Needs to be in here for Safari polyfill so background images work as expected. */\n",
              "                background-size: auto;\n",
              "            }\n",
              "        </style>\n",
              "      \n",
              "      <progress value='383' max='383' style='width:300px; height:20px; vertical-align: middle;'></progress>\n",
              "      [383/383 00:44]\n",
              "    </div>\n",
              "    "
            ]
          },
          "metadata": {
            "tags": []
          }
        },
        {
          "output_type": "execute_result",
          "data": {
            "text/plain": [
              "{'eval_loss': 0.5067250728607178,\n",
              " 'eval_accuracy': 0.7544590016734011,\n",
              " 'eval_f1': 0.7462563967776344,\n",
              " 'eval_precision': 0.7436107816231792,\n",
              " 'eval_recall': 0.7544590016734011,\n",
              " 'eval_runtime': 44.6039,\n",
              " 'eval_samples_per_second': 549.301,\n",
              " 'epoch': 1.0}"
            ]
          },
          "metadata": {
            "tags": []
          },
          "execution_count": 28
        }
      ]
    },
    {
      "cell_type": "code",
      "metadata": {
        "trusted": true,
        "id": "UTXosSWrqUL8"
      },
      "source": [
        "trainer5.save_model('roberta-base-russian-v0-1')"
      ],
      "execution_count": null,
      "outputs": []
    }
  ]
}