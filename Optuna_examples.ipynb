{
  "nbformat": 4,
  "nbformat_minor": 0,
  "metadata": {
    "kernelspec": {
      "name": "python3",
      "display_name": "Python 3",
      "language": "python"
    },
    "language_info": {
      "name": "python",
      "version": "3.7.9",
      "mimetype": "text/x-python",
      "codemirror_mode": {
        "name": "ipython",
        "version": 3
      },
      "pygments_lexer": "ipython3",
      "nbconvert_exporter": "python",
      "file_extension": ".py"
    },
    "colab": {
      "name": "Optuna examples.ipynb",
      "provenance": [],
      "include_colab_link": true
    }
  },
  "cells": [
    {
      "cell_type": "markdown",
      "metadata": {
        "id": "view-in-github",
        "colab_type": "text"
      },
      "source": [
        "<a href=\"https://colab.research.google.com/github/olgasem10/Unsafe/blob/main/Optuna_examples.ipynb\" target=\"_parent\"><img src=\"https://colab.research.google.com/assets/colab-badge.svg\" alt=\"Open In Colab\"/></a>"
      ]
    },
    {
      "cell_type": "code",
      "metadata": {
        "trusted": true,
        "id": "EYrHRseJu2Tx"
      },
      "source": [
        "from transformers import BertTokenizer, BertForSequenceClassification, Trainer, TrainingArguments\n",
        "from transformers.trainer_callback import EarlyStoppingCallback\n",
        "import torch\n",
        "from torch.utils.data import Dataset\n",
        "from sklearn.metrics import accuracy_score, precision_recall_fscore_support, roc_auc_score\n",
        "import numpy as np\n",
        "import pandas as pd\n",
        "import optuna\n",
        "from typing import Dict"
      ],
      "execution_count": null,
      "outputs": []
    },
    {
      "cell_type": "markdown",
      "metadata": {
        "id": "tDWluB_cu2T6"
      },
      "source": [
        "### Данные (с добавлением спец токена)"
      ]
    },
    {
      "cell_type": "code",
      "metadata": {
        "trusted": true,
        "id": "8kI46saqu2T7"
      },
      "source": [
        "train_df = pd.read_csv('/kaggle/input/unsafe/train_randst0.csv')\n",
        "test_df = pd.read_csv('/kaggle/input/unsafe/val_randst0.csv')\n",
        "#train_df = train_df[[\"text\", \"unsafe\"]]\n",
        "#test_df = test_df[[\"text\", \"unsafe\"]]"
      ],
      "execution_count": null,
      "outputs": []
    },
    {
      "cell_type": "code",
      "metadata": {
        "trusted": true,
        "id": "zcq8hARyu2T7"
      },
      "source": [
        "train_df = train_df.loc[(train_df['unsafe'] >= 0.8) | (train_df['unsafe'] <= 0.2)]"
      ],
      "execution_count": null,
      "outputs": []
    },
    {
      "cell_type": "code",
      "metadata": {
        "trusted": true,
        "id": "5vbsRDm0u2T8"
      },
      "source": [
        "translator = {\n",
        "    'crime_real' : 'криминал',\n",
        "    'crime_web' : 'веб-криминал',\n",
        "    'drugs' : 'наркотики',\n",
        "    'gambling' : 'азартные игры',\n",
        "    'pornography' : 'порнография',\n",
        "    'prostitution' : 'проституция',\n",
        "    'slavery' : 'рабство',\n",
        "    'suicide' : 'суицид',\n",
        "    'terrorism' : 'терроризм',\n",
        "    'weapons' : 'оружие', \n",
        "    'body_shaming' : 'уродства',\n",
        "    'halth_shaming' : 'инвалидность',\n",
        "    'politics' : 'политика',\n",
        "    'racism' : 'расизм',\n",
        "    'religion' : 'религия',\n",
        "    'sex_minorities' : 'гомосексуализм',\n",
        "    'sexism' : 'сексизм',\n",
        "    'social' : 'социальное',\n",
        "    'none' : ''\n",
        "}"
      ],
      "execution_count": null,
      "outputs": []
    },
    {
      "cell_type": "code",
      "metadata": {
        "trusted": true,
        "id": "IpfJ3mLQu2T8"
      },
      "source": [
        "col_names = ['crime_real',\n",
        " 'crime_web',\n",
        " 'drugs',\n",
        " 'gambling',\n",
        " 'pornography',\n",
        " 'prostitution',\n",
        " 'slavery',\n",
        " 'suicide',\n",
        " 'terrorism',\n",
        " 'weapons',\n",
        " 'body_shaming',\n",
        " 'halth_shaming',\n",
        " 'politics',\n",
        " 'racism',\n",
        " 'religion',\n",
        " 'sex_minorities',\n",
        " 'sexism',\n",
        " 'social']"
      ],
      "execution_count": null,
      "outputs": []
    },
    {
      "cell_type": "code",
      "metadata": {
        "trusted": true,
        "id": "Hd9JqbXOu2T9"
      },
      "source": [
        "def binary(val):\n",
        "    return round(val)"
      ],
      "execution_count": null,
      "outputs": []
    },
    {
      "cell_type": "code",
      "metadata": {
        "trusted": true,
        "id": "AO-D1FWUu2T9"
      },
      "source": [
        "for name in col_names:\n",
        "    train_df[name] = train_df[name].apply(binary)\n",
        "    test_df[name] = test_df[name].apply(binary)"
      ],
      "execution_count": null,
      "outputs": []
    },
    {
      "cell_type": "code",
      "metadata": {
        "trusted": true,
        "id": "pOSrkUrru2T9"
      },
      "source": [
        "train_df['unsafe'] = train_df['unsafe'].apply(binary)\n",
        "test_df['unsafe'] = test_df['unsafe'].apply(binary)"
      ],
      "execution_count": null,
      "outputs": []
    },
    {
      "cell_type": "code",
      "metadata": {
        "trusted": true,
        "id": "lfWqWZItu2T-"
      },
      "source": [
        "def add_special_tokens(dataframe):\n",
        "    new_dataframe = dataframe.copy()\n",
        "    for column in col_names:\n",
        "        indices = dataframe.index[dataframe[column] == 1]\n",
        "        new_dataframe.loc[indices, ['text']] = '<' + translator[column] + '> ' + dataframe.loc[indices, ['text']].astype(str)\n",
        "    return new_dataframe"
      ],
      "execution_count": null,
      "outputs": []
    },
    {
      "cell_type": "code",
      "metadata": {
        "trusted": true,
        "id": "EdLkJcZDu2T-"
      },
      "source": [
        "train_df = add_special_tokens(train_df)\n",
        "test_df = add_special_tokens(test_df)"
      ],
      "execution_count": null,
      "outputs": []
    },
    {
      "cell_type": "code",
      "metadata": {
        "trusted": true,
        "id": "CzSOSBpPu2T-"
      },
      "source": [
        "#train_df = train_df.sample(frac=1)\n",
        "#test_df = test_df.sample(frac=1)"
      ],
      "execution_count": null,
      "outputs": []
    },
    {
      "cell_type": "code",
      "metadata": {
        "trusted": true,
        "id": "hXMMKmFKu2T_"
      },
      "source": [
        "x_train = train_df['text'].tolist()#[:15000]\n",
        "y_train = train_df['unsafe'].tolist()#[:15000]\n",
        "x_test = test_df['text'].tolist()#[:2000]\n",
        "y_test = test_df['unsafe'].tolist()#[:2000]"
      ],
      "execution_count": null,
      "outputs": []
    },
    {
      "cell_type": "code",
      "metadata": {
        "trusted": true,
        "id": "XBN33HC_u2T_"
      },
      "source": [
        "len(x_test)"
      ],
      "execution_count": null,
      "outputs": []
    },
    {
      "cell_type": "code",
      "metadata": {
        "trusted": true,
        "id": "5tecJNQ2u2T_"
      },
      "source": [
        "class UnsafeData(Dataset):\n",
        "\n",
        "    def __init__(self, texts, targets, tokenizer, max_len):\n",
        "        \n",
        "        super().__init__()\n",
        "        \n",
        "        self.texts = texts\n",
        "        self.targets = targets        \n",
        "        self.max_len = max_len\n",
        "        self.tokenizer = tokenizer\n",
        "\n",
        "    def __len__(self):\n",
        "        \n",
        "        return len(self.texts)\n",
        "\n",
        "    \n",
        "    def __getitem__(self, index):\n",
        "        x = self.texts[index]\n",
        "\n",
        "        enc_dict = self.tokenizer(x, truncation=True, max_length=self.max_len, padding='max_length')\n",
        "      \n",
        "        item = {key: torch.tensor(val).long() for key, val in enc_dict.items()}\n",
        "        item['labels'] = torch.tensor(self.targets[index]).long()\n",
        "\n",
        "        return item "
      ],
      "execution_count": null,
      "outputs": []
    },
    {
      "cell_type": "markdown",
      "metadata": {
        "id": "P5KZN7-mu2T_"
      },
      "source": [
        "### Обучение"
      ]
    },
    {
      "cell_type": "code",
      "metadata": {
        "trusted": true,
        "id": "6ZG39iNvu2UA"
      },
      "source": [
        "def compute_metrics(pred):\n",
        "    labels = pred.label_ids\n",
        "    preds = pred.predictions.argmax(-1)\n",
        "    precision, recall, f1, _ = precision_recall_fscore_support(labels, preds, average='weighted')\n",
        "    acc = accuracy_score(labels, preds)\n",
        "    return {\n",
        "        'accuracy': acc,\n",
        "        'f1': f1,\n",
        "        'precision': precision,\n",
        "        'recall': recall\n",
        "    }"
      ],
      "execution_count": null,
      "outputs": []
    },
    {
      "cell_type": "code",
      "metadata": {
        "trusted": true,
        "id": "fLs-BwYMu2UA"
      },
      "source": [
        "model_name = 'DeepPavlov/rubert-base-cased-conversational'"
      ],
      "execution_count": null,
      "outputs": []
    },
    {
      "cell_type": "code",
      "metadata": {
        "trusted": true,
        "id": "lxPRzc-ku2UA"
      },
      "source": [
        "tokenizer = BertTokenizer.from_pretrained(model_name)\n",
        "#model = BertForSequenceClassification.from_pretrained(model_name)"
      ],
      "execution_count": null,
      "outputs": []
    },
    {
      "cell_type": "code",
      "metadata": {
        "trusted": true,
        "id": "5cybhM4Su2UA"
      },
      "source": [
        "train_dataset = UnsafeData(x_train, y_train, tokenizer, max_len = 60)\n",
        "test_dataset = UnsafeData(x_test, y_test, tokenizer, max_len = 60)"
      ],
      "execution_count": null,
      "outputs": []
    },
    {
      "cell_type": "code",
      "metadata": {
        "trusted": true,
        "id": "Du7bIQL3u2UA",
        "outputId": "c9d81d17-6677-4e59-9cc3-c300111e294b"
      },
      "source": [
        "len(train_dataset), len(test_dataset)"
      ],
      "execution_count": null,
      "outputs": [
        {
          "output_type": "execute_result",
          "data": {
            "text/plain": [
              "(120120, 24501)"
            ]
          },
          "metadata": {
            "tags": []
          },
          "execution_count": 49
        }
      ]
    },
    {
      "cell_type": "code",
      "metadata": {
        "trusted": true,
        "id": "VWGji8GHu2UB",
        "outputId": "22443c0c-8cec-4a35-a288-70aae8af141e"
      },
      "source": [
        "train_dataset[10000]"
      ],
      "execution_count": null,
      "outputs": [
        {
          "output_type": "execute_result",
          "data": {
            "text/plain": [
              "{'input_ids': tensor([  101,   160, 21749,   130, 48931,   164, 40051,   477,   507,   465,\n",
              "         58496,   439, 28019, 14646, 32260,  8297, 41387,   128,  1007,  1151,\n",
              "         19644,   340,   362,  5703,   166,   102,     0,     0,     0,     0,\n",
              "             0,     0,     0,     0,     0,     0,     0,     0,     0,     0,\n",
              "             0,     0,     0,     0,     0,     0,     0,     0,     0,     0,\n",
              "             0,     0,     0,     0,     0,     0,     0,     0,     0,     0]),\n",
              " 'token_type_ids': tensor([0, 0, 0, 0, 0, 0, 0, 0, 0, 0, 0, 0, 0, 0, 0, 0, 0, 0, 0, 0, 0, 0, 0, 0,\n",
              "         0, 0, 0, 0, 0, 0, 0, 0, 0, 0, 0, 0, 0, 0, 0, 0, 0, 0, 0, 0, 0, 0, 0, 0,\n",
              "         0, 0, 0, 0, 0, 0, 0, 0, 0, 0, 0, 0]),\n",
              " 'attention_mask': tensor([1, 1, 1, 1, 1, 1, 1, 1, 1, 1, 1, 1, 1, 1, 1, 1, 1, 1, 1, 1, 1, 1, 1, 1,\n",
              "         1, 1, 0, 0, 0, 0, 0, 0, 0, 0, 0, 0, 0, 0, 0, 0, 0, 0, 0, 0, 0, 0, 0, 0,\n",
              "         0, 0, 0, 0, 0, 0, 0, 0, 0, 0, 0, 0]),\n",
              " 'labels': tensor(1)}"
            ]
          },
          "metadata": {
            "tags": []
          },
          "execution_count": 50
        }
      ]
    },
    {
      "cell_type": "code",
      "metadata": {
        "trusted": true,
        "id": "n6UqZ2-Eu2UC"
      },
      "source": [
        "def model_init():\n",
        "    return BertForSequenceClassification.from_pretrained(model_name, return_dict=True)"
      ],
      "execution_count": null,
      "outputs": []
    },
    {
      "cell_type": "code",
      "metadata": {
        "trusted": true,
        "id": "Y0DqGRIou2UC",
        "outputId": "03657b09-40ae-4e7e-8d1c-f7a8db2cccdb"
      },
      "source": [
        "training_args = TrainingArguments(\n",
        "    output_dir='/kaggle/working/bert1',\n",
        "    logging_steps = 600,\n",
        "    evaluation_strategy = 'steps',\n",
        "    logging_dir='/kaggle/working/bert1/logs',\n",
        "    save_steps = 10000,\n",
        "    save_total_limit = 2,\n",
        "    #metric_for_best_model  = 'f1',\n",
        "    #greater_is_better = True,\n",
        "    #load_best_model_at_end = True\n",
        ")\n",
        "\n",
        "trainer = Trainer(\n",
        "    args=training_args,\n",
        "    tokenizer=tokenizer,\n",
        "    train_dataset=train_dataset,\n",
        "    eval_dataset=test_dataset,\n",
        "    model_init=model_init,\n",
        "    compute_metrics=compute_metrics,\n",
        ")"
      ],
      "execution_count": null,
      "outputs": [
        {
          "output_type": "stream",
          "text": [
            "Some weights of BertForSequenceClassification were not initialized from the model checkpoint at DeepPavlov/rubert-base-cased-conversational and are newly initialized: ['classifier.weight', 'classifier.bias']\n",
            "You should probably TRAIN this model on a down-stream task to be able to use it for predictions and inference.\n",
            "W&B installed but not logged in. Run `wandb login` or set the WANDB_API_KEY env variable.\n"
          ],
          "name": "stderr"
        }
      ]
    },
    {
      "cell_type": "code",
      "metadata": {
        "trusted": true,
        "id": "kSZceTgDu2UD"
      },
      "source": [
        "### По какой метрике оптимизировать\n",
        "\n",
        "def my_func(metrics):\n",
        "    return metrics['eval_f1']"
      ],
      "execution_count": null,
      "outputs": []
    },
    {
      "cell_type": "markdown",
      "metadata": {
        "id": "MR-lyfhGxjsg"
      },
      "source": [
        "### TPESampler"
      ]
    },
    {
      "cell_type": "code",
      "metadata": {
        "trusted": true,
        "id": "_MRPifB2u2UE"
      },
      "source": [
        "### Функция для пространства парметров\n",
        "\n",
        "def my_hp_space_optuna(trial) -> Dict[str, float]:\n",
        "    return {\n",
        "        \"learning_rate\": trial.suggest_float(\"learning_rate\", 1e-6, 1e-4, log=True),\n",
        "        \"num_train_epochs\": trial.suggest_int(\"num_train_epochs\", 1, 1), #1, 2\n",
        "        #\"seed\": trial.suggest_int(\"seed\", 1, 40),\n",
        "        \"per_device_train_batch_size\": trial.suggest_categorical(\"per_device_train_batch_size\", [16, 32, 64]),\n",
        "        \"weight_decay\": trial.suggest_float(\"weight_decay\", 0.0, 0.1)\n",
        "    }"
      ],
      "execution_count": null,
      "outputs": []
    },
    {
      "cell_type": "code",
      "metadata": {
        "trusted": true,
        "id": "FOgTUonAu2UE",
        "outputId": "b0d194e4-277a-4b80-d35f-8db0ac904349"
      },
      "source": [
        "best_run = trainer.hyperparameter_search(\n",
        "    hp_space = my_hp_space_optuna,\n",
        "    n_trials=5,\n",
        "    #n_jobs = 2,\n",
        "    compute_objective = my_func,\n",
        "    direction=\"maximize\",\n",
        "    backend = 'optuna',\n",
        "    study_name = 'Example',\n",
        "    sampler = optuna.samplers.TPESampler(),\n",
        "    pruner=optuna.pruners.SuccessiveHalvingPruner() #??? #https://optuna.readthedocs.io/en/stable/reference/pruners.html#module-optuna.pruners\n",
        ")"
      ],
      "execution_count": null,
      "outputs": [
        {
          "output_type": "stream",
          "text": [
            "\u001b[32m[I 2021-03-18 12:50:56,005]\u001b[0m A new study created in memory with name: Example\u001b[0m\n",
            "Some weights of BertForSequenceClassification were not initialized from the model checkpoint at DeepPavlov/rubert-base-cased-conversational and are newly initialized: ['classifier.weight', 'classifier.bias']\n",
            "You should probably TRAIN this model on a down-stream task to be able to use it for predictions and inference.\n"
          ],
          "name": "stderr"
        },
        {
          "output_type": "display_data",
          "data": {
            "text/plain": [
              "<IPython.core.display.HTML object>"
            ],
            "text/html": [
              "\n",
              "    <div>\n",
              "        <style>\n",
              "            /* Turns off some styling */\n",
              "            progress {\n",
              "                /* gets rid of default border in Firefox and Opera. */\n",
              "                border: none;\n",
              "                /* Needs to be in here for Safari polyfill so background images work as expected. */\n",
              "                background-size: auto;\n",
              "            }\n",
              "        </style>\n",
              "      \n",
              "      <progress value='1877' max='1877' style='width:300px; height:20px; vertical-align: middle;'></progress>\n",
              "      [1877/1877 16:30, Epoch 1/1]\n",
              "    </div>\n",
              "    <table border=\"1\" class=\"dataframe\">\n",
              "  <thead>\n",
              "    <tr style=\"text-align: left;\">\n",
              "      <th>Step</th>\n",
              "      <th>Training Loss</th>\n",
              "      <th>Validation Loss</th>\n",
              "      <th>Accuracy</th>\n",
              "      <th>F1</th>\n",
              "      <th>Precision</th>\n",
              "      <th>Recall</th>\n",
              "      <th>Runtime</th>\n",
              "      <th>Samples Per Second</th>\n",
              "    </tr>\n",
              "  </thead>\n",
              "  <tbody>\n",
              "    <tr>\n",
              "      <td>600</td>\n",
              "      <td>0.412600</td>\n",
              "      <td>0.441988</td>\n",
              "      <td>0.794376</td>\n",
              "      <td>0.791398</td>\n",
              "      <td>0.789764</td>\n",
              "      <td>0.794376</td>\n",
              "      <td>56.824800</td>\n",
              "      <td>431.168000</td>\n",
              "    </tr>\n",
              "    <tr>\n",
              "      <td>1200</td>\n",
              "      <td>0.364900</td>\n",
              "      <td>0.436693</td>\n",
              "      <td>0.803151</td>\n",
              "      <td>0.795892</td>\n",
              "      <td>0.796062</td>\n",
              "      <td>0.803151</td>\n",
              "      <td>56.960500</td>\n",
              "      <td>430.140000</td>\n",
              "    </tr>\n",
              "    <tr>\n",
              "      <td>1800</td>\n",
              "      <td>0.346800</td>\n",
              "      <td>0.422597</td>\n",
              "      <td>0.808375</td>\n",
              "      <td>0.805907</td>\n",
              "      <td>0.804549</td>\n",
              "      <td>0.808375</td>\n",
              "      <td>56.947100</td>\n",
              "      <td>430.241000</td>\n",
              "    </tr>\n",
              "  </tbody>\n",
              "</table><p>"
            ]
          },
          "metadata": {
            "tags": []
          }
        },
        {
          "output_type": "stream",
          "text": [
            "\u001b[32m[I 2021-03-18 13:07:32,900]\u001b[0m Trial 0 finished with value: 0.8059069203023017 and parameters: {'learning_rate': 1.4117764203025751e-05, 'num_train_epochs': 1, 'per_device_train_batch_size': 64, 'weight_decay': 0.07512942141733155}. Best is trial 0 with value: 0.8059069203023017.\u001b[0m\n",
            "Some weights of BertForSequenceClassification were not initialized from the model checkpoint at DeepPavlov/rubert-base-cased-conversational and are newly initialized: ['classifier.weight', 'classifier.bias']\n",
            "You should probably TRAIN this model on a down-stream task to be able to use it for predictions and inference.\n"
          ],
          "name": "stderr"
        },
        {
          "output_type": "display_data",
          "data": {
            "text/plain": [
              "<IPython.core.display.HTML object>"
            ],
            "text/html": [
              "\n",
              "    <div>\n",
              "        <style>\n",
              "            /* Turns off some styling */\n",
              "            progress {\n",
              "                /* gets rid of default border in Firefox and Opera. */\n",
              "                border: none;\n",
              "                /* Needs to be in here for Safari polyfill so background images work as expected. */\n",
              "                background-size: auto;\n",
              "            }\n",
              "        </style>\n",
              "      \n",
              "      <progress value='7508' max='7508' style='width:300px; height:20px; vertical-align: middle;'></progress>\n",
              "      [7508/7508 31:36, Epoch 1/1]\n",
              "    </div>\n",
              "    <table border=\"1\" class=\"dataframe\">\n",
              "  <thead>\n",
              "    <tr style=\"text-align: left;\">\n",
              "      <th>Step</th>\n",
              "      <th>Training Loss</th>\n",
              "      <th>Validation Loss</th>\n",
              "      <th>Accuracy</th>\n",
              "      <th>F1</th>\n",
              "      <th>Precision</th>\n",
              "      <th>Recall</th>\n",
              "      <th>Runtime</th>\n",
              "      <th>Samples Per Second</th>\n",
              "    </tr>\n",
              "  </thead>\n",
              "  <tbody>\n",
              "    <tr>\n",
              "      <td>600</td>\n",
              "      <td>0.584200</td>\n",
              "      <td>0.537411</td>\n",
              "      <td>0.719236</td>\n",
              "      <td>0.635839</td>\n",
              "      <td>0.718963</td>\n",
              "      <td>0.719236</td>\n",
              "      <td>56.784900</td>\n",
              "      <td>431.470000</td>\n",
              "    </tr>\n",
              "    <tr>\n",
              "      <td>1200</td>\n",
              "      <td>0.477100</td>\n",
              "      <td>0.492998</td>\n",
              "      <td>0.758622</td>\n",
              "      <td>0.755585</td>\n",
              "      <td>0.753504</td>\n",
              "      <td>0.758622</td>\n",
              "      <td>56.648600</td>\n",
              "      <td>432.509000</td>\n",
              "    </tr>\n",
              "    <tr>\n",
              "      <td>1800</td>\n",
              "      <td>0.445900</td>\n",
              "      <td>0.481442</td>\n",
              "      <td>0.767152</td>\n",
              "      <td>0.764239</td>\n",
              "      <td>0.762289</td>\n",
              "      <td>0.767152</td>\n",
              "      <td>57.067000</td>\n",
              "      <td>429.338000</td>\n",
              "    </tr>\n",
              "    <tr>\n",
              "      <td>2400</td>\n",
              "      <td>0.422400</td>\n",
              "      <td>0.478255</td>\n",
              "      <td>0.772866</td>\n",
              "      <td>0.767923</td>\n",
              "      <td>0.765690</td>\n",
              "      <td>0.772866</td>\n",
              "      <td>56.247600</td>\n",
              "      <td>435.592000</td>\n",
              "    </tr>\n",
              "    <tr>\n",
              "      <td>3000</td>\n",
              "      <td>0.424500</td>\n",
              "      <td>0.472778</td>\n",
              "      <td>0.774826</td>\n",
              "      <td>0.771304</td>\n",
              "      <td>0.769269</td>\n",
              "      <td>0.774826</td>\n",
              "      <td>56.520200</td>\n",
              "      <td>433.491000</td>\n",
              "    </tr>\n",
              "    <tr>\n",
              "      <td>3600</td>\n",
              "      <td>0.413700</td>\n",
              "      <td>0.466059</td>\n",
              "      <td>0.779274</td>\n",
              "      <td>0.773598</td>\n",
              "      <td>0.771638</td>\n",
              "      <td>0.779274</td>\n",
              "      <td>56.815900</td>\n",
              "      <td>431.235000</td>\n",
              "    </tr>\n",
              "    <tr>\n",
              "      <td>4200</td>\n",
              "      <td>0.407900</td>\n",
              "      <td>0.467155</td>\n",
              "      <td>0.780703</td>\n",
              "      <td>0.773159</td>\n",
              "      <td>0.771856</td>\n",
              "      <td>0.780703</td>\n",
              "      <td>57.134000</td>\n",
              "      <td>428.834000</td>\n",
              "    </tr>\n",
              "    <tr>\n",
              "      <td>4800</td>\n",
              "      <td>0.407900</td>\n",
              "      <td>0.465306</td>\n",
              "      <td>0.782458</td>\n",
              "      <td>0.774034</td>\n",
              "      <td>0.773312</td>\n",
              "      <td>0.782458</td>\n",
              "      <td>57.088300</td>\n",
              "      <td>429.177000</td>\n",
              "    </tr>\n",
              "    <tr>\n",
              "      <td>5400</td>\n",
              "      <td>0.394900</td>\n",
              "      <td>0.465390</td>\n",
              "      <td>0.779478</td>\n",
              "      <td>0.780114</td>\n",
              "      <td>0.780812</td>\n",
              "      <td>0.779478</td>\n",
              "      <td>57.065400</td>\n",
              "      <td>429.349000</td>\n",
              "    </tr>\n",
              "    <tr>\n",
              "      <td>6000</td>\n",
              "      <td>0.399900</td>\n",
              "      <td>0.460889</td>\n",
              "      <td>0.782539</td>\n",
              "      <td>0.780002</td>\n",
              "      <td>0.778338</td>\n",
              "      <td>0.782539</td>\n",
              "      <td>57.320300</td>\n",
              "      <td>427.440000</td>\n",
              "    </tr>\n",
              "    <tr>\n",
              "      <td>6600</td>\n",
              "      <td>0.396900</td>\n",
              "      <td>0.460054</td>\n",
              "      <td>0.784090</td>\n",
              "      <td>0.780116</td>\n",
              "      <td>0.778190</td>\n",
              "      <td>0.784090</td>\n",
              "      <td>56.587000</td>\n",
              "      <td>432.979000</td>\n",
              "    </tr>\n",
              "    <tr>\n",
              "      <td>7200</td>\n",
              "      <td>0.396000</td>\n",
              "      <td>0.459204</td>\n",
              "      <td>0.784090</td>\n",
              "      <td>0.780253</td>\n",
              "      <td>0.778336</td>\n",
              "      <td>0.784090</td>\n",
              "      <td>57.012300</td>\n",
              "      <td>429.749000</td>\n",
              "    </tr>\n",
              "  </tbody>\n",
              "</table><p>"
            ]
          },
          "metadata": {
            "tags": []
          }
        },
        {
          "output_type": "stream",
          "text": [
            "\u001b[32m[I 2021-03-18 13:39:14,688]\u001b[0m Trial 1 finished with value: 0.7802529324828464 and parameters: {'learning_rate': 1.2779229703135447e-06, 'num_train_epochs': 1, 'per_device_train_batch_size': 16, 'weight_decay': 0.03047893234751622}. Best is trial 0 with value: 0.8059069203023017.\u001b[0m\n",
            "Some weights of BertForSequenceClassification were not initialized from the model checkpoint at DeepPavlov/rubert-base-cased-conversational and are newly initialized: ['classifier.weight', 'classifier.bias']\n",
            "You should probably TRAIN this model on a down-stream task to be able to use it for predictions and inference.\n"
          ],
          "name": "stderr"
        },
        {
          "output_type": "display_data",
          "data": {
            "text/plain": [
              "<IPython.core.display.HTML object>"
            ],
            "text/html": [
              "\n",
              "    <div>\n",
              "        <style>\n",
              "            /* Turns off some styling */\n",
              "            progress {\n",
              "                /* gets rid of default border in Firefox and Opera. */\n",
              "                border: none;\n",
              "                /* Needs to be in here for Safari polyfill so background images work as expected. */\n",
              "                background-size: auto;\n",
              "            }\n",
              "        </style>\n",
              "      \n",
              "      <progress value='3754' max='3754' style='width:300px; height:20px; vertical-align: middle;'></progress>\n",
              "      [3754/3754 21:18, Epoch 1/1]\n",
              "    </div>\n",
              "    <table border=\"1\" class=\"dataframe\">\n",
              "  <thead>\n",
              "    <tr style=\"text-align: left;\">\n",
              "      <th>Step</th>\n",
              "      <th>Training Loss</th>\n",
              "      <th>Validation Loss</th>\n",
              "      <th>Accuracy</th>\n",
              "      <th>F1</th>\n",
              "      <th>Precision</th>\n",
              "      <th>Recall</th>\n",
              "      <th>Runtime</th>\n",
              "      <th>Samples Per Second</th>\n",
              "    </tr>\n",
              "  </thead>\n",
              "  <tbody>\n",
              "    <tr>\n",
              "      <td>600</td>\n",
              "      <td>0.447000</td>\n",
              "      <td>0.453647</td>\n",
              "      <td>0.775723</td>\n",
              "      <td>0.779888</td>\n",
              "      <td>0.787352</td>\n",
              "      <td>0.775723</td>\n",
              "      <td>56.523900</td>\n",
              "      <td>433.462000</td>\n",
              "    </tr>\n",
              "    <tr>\n",
              "      <td>1200</td>\n",
              "      <td>0.398100</td>\n",
              "      <td>0.438203</td>\n",
              "      <td>0.791927</td>\n",
              "      <td>0.783547</td>\n",
              "      <td>0.783604</td>\n",
              "      <td>0.791927</td>\n",
              "      <td>57.102400</td>\n",
              "      <td>429.071000</td>\n",
              "    </tr>\n",
              "    <tr>\n",
              "      <td>1800</td>\n",
              "      <td>0.386500</td>\n",
              "      <td>0.463569</td>\n",
              "      <td>0.788417</td>\n",
              "      <td>0.769141</td>\n",
              "      <td>0.782937</td>\n",
              "      <td>0.788417</td>\n",
              "      <td>56.636800</td>\n",
              "      <td>432.599000</td>\n",
              "    </tr>\n",
              "    <tr>\n",
              "      <td>2400</td>\n",
              "      <td>0.373400</td>\n",
              "      <td>0.443655</td>\n",
              "      <td>0.797763</td>\n",
              "      <td>0.795000</td>\n",
              "      <td>0.793450</td>\n",
              "      <td>0.797763</td>\n",
              "      <td>57.140600</td>\n",
              "      <td>428.785000</td>\n",
              "    </tr>\n",
              "    <tr>\n",
              "      <td>3000</td>\n",
              "      <td>0.357000</td>\n",
              "      <td>0.426132</td>\n",
              "      <td>0.804865</td>\n",
              "      <td>0.801943</td>\n",
              "      <td>0.800482</td>\n",
              "      <td>0.804865</td>\n",
              "      <td>56.679200</td>\n",
              "      <td>432.275000</td>\n",
              "    </tr>\n",
              "    <tr>\n",
              "      <td>3600</td>\n",
              "      <td>0.343900</td>\n",
              "      <td>0.421821</td>\n",
              "      <td>0.808498</td>\n",
              "      <td>0.805066</td>\n",
              "      <td>0.803688</td>\n",
              "      <td>0.808498</td>\n",
              "      <td>57.055800</td>\n",
              "      <td>429.422000</td>\n",
              "    </tr>\n",
              "  </tbody>\n",
              "</table><p>"
            ]
          },
          "metadata": {
            "tags": []
          }
        },
        {
          "output_type": "stream",
          "text": [
            "\u001b[32m[I 2021-03-18 14:00:39,261]\u001b[0m Trial 2 finished with value: 0.8050659830965247 and parameters: {'learning_rate': 4.7608224975319416e-05, 'num_train_epochs': 1, 'per_device_train_batch_size': 32, 'weight_decay': 0.04178583915566045}. Best is trial 0 with value: 0.8059069203023017.\u001b[0m\n",
            "Some weights of BertForSequenceClassification were not initialized from the model checkpoint at DeepPavlov/rubert-base-cased-conversational and are newly initialized: ['classifier.weight', 'classifier.bias']\n",
            "You should probably TRAIN this model on a down-stream task to be able to use it for predictions and inference.\n"
          ],
          "name": "stderr"
        },
        {
          "output_type": "display_data",
          "data": {
            "text/plain": [
              "<IPython.core.display.HTML object>"
            ],
            "text/html": [
              "\n",
              "    <div>\n",
              "        <style>\n",
              "            /* Turns off some styling */\n",
              "            progress {\n",
              "                /* gets rid of default border in Firefox and Opera. */\n",
              "                border: none;\n",
              "                /* Needs to be in here for Safari polyfill so background images work as expected. */\n",
              "                background-size: auto;\n",
              "            }\n",
              "        </style>\n",
              "      \n",
              "      <progress value='7508' max='7508' style='width:300px; height:20px; vertical-align: middle;'></progress>\n",
              "      [7508/7508 31:34, Epoch 1/1]\n",
              "    </div>\n",
              "    <table border=\"1\" class=\"dataframe\">\n",
              "  <thead>\n",
              "    <tr style=\"text-align: left;\">\n",
              "      <th>Step</th>\n",
              "      <th>Training Loss</th>\n",
              "      <th>Validation Loss</th>\n",
              "      <th>Accuracy</th>\n",
              "      <th>F1</th>\n",
              "      <th>Precision</th>\n",
              "      <th>Recall</th>\n",
              "      <th>Runtime</th>\n",
              "      <th>Samples Per Second</th>\n",
              "    </tr>\n",
              "  </thead>\n",
              "  <tbody>\n",
              "    <tr>\n",
              "      <td>600</td>\n",
              "      <td>0.464300</td>\n",
              "      <td>0.470469</td>\n",
              "      <td>0.775070</td>\n",
              "      <td>0.776287</td>\n",
              "      <td>0.777729</td>\n",
              "      <td>0.775070</td>\n",
              "      <td>56.944400</td>\n",
              "      <td>430.261000</td>\n",
              "    </tr>\n",
              "    <tr>\n",
              "      <td>1200</td>\n",
              "      <td>0.418500</td>\n",
              "      <td>0.454358</td>\n",
              "      <td>0.777887</td>\n",
              "      <td>0.781758</td>\n",
              "      <td>0.788487</td>\n",
              "      <td>0.777887</td>\n",
              "      <td>56.891400</td>\n",
              "      <td>430.663000</td>\n",
              "    </tr>\n",
              "    <tr>\n",
              "      <td>1800</td>\n",
              "      <td>0.396600</td>\n",
              "      <td>0.442392</td>\n",
              "      <td>0.789192</td>\n",
              "      <td>0.776145</td>\n",
              "      <td>0.780528</td>\n",
              "      <td>0.789192</td>\n",
              "      <td>56.554800</td>\n",
              "      <td>433.226000</td>\n",
              "    </tr>\n",
              "    <tr>\n",
              "      <td>2400</td>\n",
              "      <td>0.377700</td>\n",
              "      <td>0.436637</td>\n",
              "      <td>0.796825</td>\n",
              "      <td>0.791749</td>\n",
              "      <td>0.790343</td>\n",
              "      <td>0.796825</td>\n",
              "      <td>57.231900</td>\n",
              "      <td>428.100000</td>\n",
              "    </tr>\n",
              "    <tr>\n",
              "      <td>3000</td>\n",
              "      <td>0.376600</td>\n",
              "      <td>0.464693</td>\n",
              "      <td>0.795723</td>\n",
              "      <td>0.785387</td>\n",
              "      <td>0.787657</td>\n",
              "      <td>0.795723</td>\n",
              "      <td>57.215100</td>\n",
              "      <td>428.226000</td>\n",
              "    </tr>\n",
              "    <tr>\n",
              "      <td>3600</td>\n",
              "      <td>0.376200</td>\n",
              "      <td>0.476868</td>\n",
              "      <td>0.796294</td>\n",
              "      <td>0.782457</td>\n",
              "      <td>0.789386</td>\n",
              "      <td>0.796294</td>\n",
              "      <td>56.812700</td>\n",
              "      <td>431.259000</td>\n",
              "    </tr>\n",
              "    <tr>\n",
              "      <td>4200</td>\n",
              "      <td>0.361200</td>\n",
              "      <td>0.442924</td>\n",
              "      <td>0.800620</td>\n",
              "      <td>0.798823</td>\n",
              "      <td>0.797582</td>\n",
              "      <td>0.800620</td>\n",
              "      <td>56.943800</td>\n",
              "      <td>430.266000</td>\n",
              "    </tr>\n",
              "    <tr>\n",
              "      <td>4800</td>\n",
              "      <td>0.365800</td>\n",
              "      <td>0.449968</td>\n",
              "      <td>0.800294</td>\n",
              "      <td>0.794718</td>\n",
              "      <td>0.793655</td>\n",
              "      <td>0.800294</td>\n",
              "      <td>56.946600</td>\n",
              "      <td>430.245000</td>\n",
              "    </tr>\n",
              "    <tr>\n",
              "      <td>5400</td>\n",
              "      <td>0.351200</td>\n",
              "      <td>0.447620</td>\n",
              "      <td>0.803967</td>\n",
              "      <td>0.803732</td>\n",
              "      <td>0.803508</td>\n",
              "      <td>0.803967</td>\n",
              "      <td>57.191800</td>\n",
              "      <td>428.400000</td>\n",
              "    </tr>\n",
              "    <tr>\n",
              "      <td>6000</td>\n",
              "      <td>0.356500</td>\n",
              "      <td>0.420388</td>\n",
              "      <td>0.807069</td>\n",
              "      <td>0.804234</td>\n",
              "      <td>0.802817</td>\n",
              "      <td>0.807069</td>\n",
              "      <td>56.942500</td>\n",
              "      <td>430.276000</td>\n",
              "    </tr>\n",
              "    <tr>\n",
              "      <td>6600</td>\n",
              "      <td>0.336400</td>\n",
              "      <td>0.436599</td>\n",
              "      <td>0.809844</td>\n",
              "      <td>0.804849</td>\n",
              "      <td>0.803986</td>\n",
              "      <td>0.809844</td>\n",
              "      <td>56.642000</td>\n",
              "      <td>432.559000</td>\n",
              "    </tr>\n",
              "    <tr>\n",
              "      <td>7200</td>\n",
              "      <td>0.338400</td>\n",
              "      <td>0.419702</td>\n",
              "      <td>0.811477</td>\n",
              "      <td>0.806998</td>\n",
              "      <td>0.805978</td>\n",
              "      <td>0.811477</td>\n",
              "      <td>56.923200</td>\n",
              "      <td>430.422000</td>\n",
              "    </tr>\n",
              "  </tbody>\n",
              "</table><p>"
            ]
          },
          "metadata": {
            "tags": []
          }
        },
        {
          "output_type": "stream",
          "text": [
            "\u001b[32m[I 2021-03-18 14:32:20,009]\u001b[0m Trial 3 finished with value: 0.8069978438396579 and parameters: {'learning_rate': 2.9489250021210324e-05, 'num_train_epochs': 1, 'per_device_train_batch_size': 16, 'weight_decay': 0.016346936245910295}. Best is trial 3 with value: 0.8069978438396579.\u001b[0m\n",
            "Some weights of BertForSequenceClassification were not initialized from the model checkpoint at DeepPavlov/rubert-base-cased-conversational and are newly initialized: ['classifier.weight', 'classifier.bias']\n",
            "You should probably TRAIN this model on a down-stream task to be able to use it for predictions and inference.\n"
          ],
          "name": "stderr"
        },
        {
          "output_type": "display_data",
          "data": {
            "text/plain": [
              "<IPython.core.display.HTML object>"
            ],
            "text/html": [
              "\n",
              "    <div>\n",
              "        <style>\n",
              "            /* Turns off some styling */\n",
              "            progress {\n",
              "                /* gets rid of default border in Firefox and Opera. */\n",
              "                border: none;\n",
              "                /* Needs to be in here for Safari polyfill so background images work as expected. */\n",
              "                background-size: auto;\n",
              "            }\n",
              "        </style>\n",
              "      \n",
              "      <progress value='3754' max='3754' style='width:300px; height:20px; vertical-align: middle;'></progress>\n",
              "      [3754/3754 21:15, Epoch 1/1]\n",
              "    </div>\n",
              "    <table border=\"1\" class=\"dataframe\">\n",
              "  <thead>\n",
              "    <tr style=\"text-align: left;\">\n",
              "      <th>Step</th>\n",
              "      <th>Training Loss</th>\n",
              "      <th>Validation Loss</th>\n",
              "      <th>Accuracy</th>\n",
              "      <th>F1</th>\n",
              "      <th>Precision</th>\n",
              "      <th>Recall</th>\n",
              "      <th>Runtime</th>\n",
              "      <th>Samples Per Second</th>\n",
              "    </tr>\n",
              "  </thead>\n",
              "  <tbody>\n",
              "    <tr>\n",
              "      <td>600</td>\n",
              "      <td>0.480400</td>\n",
              "      <td>0.470405</td>\n",
              "      <td>0.772213</td>\n",
              "      <td>0.769153</td>\n",
              "      <td>0.767207</td>\n",
              "      <td>0.772213</td>\n",
              "      <td>56.738600</td>\n",
              "      <td>431.823000</td>\n",
              "    </tr>\n",
              "    <tr>\n",
              "      <td>1200</td>\n",
              "      <td>0.401500</td>\n",
              "      <td>0.464092</td>\n",
              "      <td>0.785274</td>\n",
              "      <td>0.778192</td>\n",
              "      <td>0.776969</td>\n",
              "      <td>0.785274</td>\n",
              "      <td>57.083700</td>\n",
              "      <td>429.212000</td>\n",
              "    </tr>\n",
              "    <tr>\n",
              "      <td>1800</td>\n",
              "      <td>0.391600</td>\n",
              "      <td>0.441448</td>\n",
              "      <td>0.791192</td>\n",
              "      <td>0.785412</td>\n",
              "      <td>0.783987</td>\n",
              "      <td>0.791192</td>\n",
              "      <td>56.643600</td>\n",
              "      <td>432.547000</td>\n",
              "    </tr>\n",
              "    <tr>\n",
              "      <td>2400</td>\n",
              "      <td>0.381900</td>\n",
              "      <td>0.442578</td>\n",
              "      <td>0.796008</td>\n",
              "      <td>0.790612</td>\n",
              "      <td>0.789275</td>\n",
              "      <td>0.796008</td>\n",
              "      <td>56.819700</td>\n",
              "      <td>431.206000</td>\n",
              "    </tr>\n",
              "    <tr>\n",
              "      <td>3000</td>\n",
              "      <td>0.367400</td>\n",
              "      <td>0.440015</td>\n",
              "      <td>0.792866</td>\n",
              "      <td>0.793205</td>\n",
              "      <td>0.793564</td>\n",
              "      <td>0.792866</td>\n",
              "      <td>56.520200</td>\n",
              "      <td>433.491000</td>\n",
              "    </tr>\n",
              "    <tr>\n",
              "      <td>3600</td>\n",
              "      <td>0.365800</td>\n",
              "      <td>0.435888</td>\n",
              "      <td>0.797029</td>\n",
              "      <td>0.795190</td>\n",
              "      <td>0.793909</td>\n",
              "      <td>0.797029</td>\n",
              "      <td>56.947200</td>\n",
              "      <td>430.240000</td>\n",
              "    </tr>\n",
              "  </tbody>\n",
              "</table><p>"
            ]
          },
          "metadata": {
            "tags": []
          }
        },
        {
          "output_type": "stream",
          "text": [
            "\u001b[32m[I 2021-03-18 14:53:41,614]\u001b[0m Trial 4 finished with value: 0.7951903321277392 and parameters: {'learning_rate': 4.240225969679652e-06, 'num_train_epochs': 1, 'per_device_train_batch_size': 32, 'weight_decay': 0.020472146538012794}. Best is trial 3 with value: 0.8069978438396579.\u001b[0m\n"
          ],
          "name": "stderr"
        }
      ]
    },
    {
      "cell_type": "markdown",
      "metadata": {
        "id": "zzxZ_s_-xTRo"
      },
      "source": [
        "Результат: Best is trial 3 with value: 0.8069978438396579\n",
        "\n",
        "parameters: {'learning_rate': 2.9489250021210324e-05, 'num_train_epochs': 1, 'per_device_train_batch_size': 16, 'weight_decay': 0.016346936245910295}"
      ]
    },
    {
      "cell_type": "markdown",
      "metadata": {
        "id": "novCPRPrxDsc"
      },
      "source": [
        "#### GridSampler"
      ]
    },
    {
      "cell_type": "code",
      "metadata": {
        "trusted": true,
        "id": "EXoyT7m7xCqD"
      },
      "source": [
        "search_space = {\n",
        "        \"learning_rate\": [1e-6, 1e-4],\n",
        "        \"num_train_epochs\": [1, 2],\n",
        "        \"seed\": [32, 40],\n",
        "        \"per_device_train_batch_size\": [4, 8, 16, 32, 64],\n",
        "        'weight_decay': [0, 0.01, 0.001]\n",
        "    }"
      ],
      "execution_count": null,
      "outputs": []
    },
    {
      "cell_type": "code",
      "metadata": {
        "trusted": true,
        "id": "sDnMuU1mxCqF",
        "outputId": "22bea200-4d40-4d84-b0a1-30ae247270d8"
      },
      "source": [
        "best_run = trainer.hyperparameter_search(\n",
        "    n_trials=2,\n",
        "    compute_objective = my_func,\n",
        "    direction=\"maximize\",\n",
        "    backend = 'optuna',\n",
        "    study_name = 'Example',\n",
        "    sampler = optuna.samplers.GridSampler(search_space),\n",
        "    pruner=optuna.pruners.SuccessiveHalvingPruner() #??? #https://optuna.readthedocs.io/en/stable/reference/pruners.html#module-optuna.pruners\n",
        ")"
      ],
      "execution_count": null,
      "outputs": [
        {
          "output_type": "stream",
          "text": [
            "\u001b[32m[I 2021-03-18 15:00:10,681]\u001b[0m A new study created in memory with name: Example\u001b[0m\n",
            "Some weights of BertForSequenceClassification were not initialized from the model checkpoint at DeepPavlov/rubert-base-cased-conversational and are newly initialized: ['classifier.weight', 'classifier.bias']\n",
            "You should probably TRAIN this model on a down-stream task to be able to use it for predictions and inference.\n"
          ],
          "name": "stderr"
        },
        {
          "output_type": "display_data",
          "data": {
            "text/plain": [
              "<IPython.core.display.HTML object>"
            ],
            "text/html": [
              "\n",
              "    <div>\n",
              "        <style>\n",
              "            /* Turns off some styling */\n",
              "            progress {\n",
              "                /* gets rid of default border in Firefox and Opera. */\n",
              "                border: none;\n",
              "                /* Needs to be in here for Safari polyfill so background images work as expected. */\n",
              "                background-size: auto;\n",
              "            }\n",
              "        </style>\n",
              "      \n",
              "      <progress value='3754' max='3754' style='width:300px; height:20px; vertical-align: middle;'></progress>\n",
              "      [3754/3754 21:18, Epoch 1/1]\n",
              "    </div>\n",
              "    <table border=\"1\" class=\"dataframe\">\n",
              "  <thead>\n",
              "    <tr style=\"text-align: left;\">\n",
              "      <th>Step</th>\n",
              "      <th>Training Loss</th>\n",
              "      <th>Validation Loss</th>\n",
              "      <th>Accuracy</th>\n",
              "      <th>F1</th>\n",
              "      <th>Precision</th>\n",
              "      <th>Recall</th>\n",
              "      <th>Runtime</th>\n",
              "      <th>Samples Per Second</th>\n",
              "    </tr>\n",
              "  </thead>\n",
              "  <tbody>\n",
              "    <tr>\n",
              "      <td>600</td>\n",
              "      <td>0.476000</td>\n",
              "      <td>0.580707</td>\n",
              "      <td>0.766010</td>\n",
              "      <td>0.763432</td>\n",
              "      <td>0.761612</td>\n",
              "      <td>0.766010</td>\n",
              "      <td>57.027600</td>\n",
              "      <td>429.634000</td>\n",
              "    </tr>\n",
              "    <tr>\n",
              "      <td>1200</td>\n",
              "      <td>0.559400</td>\n",
              "      <td>0.544872</td>\n",
              "      <td>0.732378</td>\n",
              "      <td>0.734262</td>\n",
              "      <td>0.736504</td>\n",
              "      <td>0.732378</td>\n",
              "      <td>56.898200</td>\n",
              "      <td>430.611000</td>\n",
              "    </tr>\n",
              "    <tr>\n",
              "      <td>1800</td>\n",
              "      <td>0.536300</td>\n",
              "      <td>0.557038</td>\n",
              "      <td>0.740704</td>\n",
              "      <td>0.730686</td>\n",
              "      <td>0.727560</td>\n",
              "      <td>0.740704</td>\n",
              "      <td>56.847000</td>\n",
              "      <td>430.999000</td>\n",
              "    </tr>\n",
              "    <tr>\n",
              "      <td>2400</td>\n",
              "      <td>0.517600</td>\n",
              "      <td>0.533692</td>\n",
              "      <td>0.745888</td>\n",
              "      <td>0.739857</td>\n",
              "      <td>0.736798</td>\n",
              "      <td>0.745888</td>\n",
              "      <td>57.007300</td>\n",
              "      <td>429.787000</td>\n",
              "    </tr>\n",
              "    <tr>\n",
              "      <td>3000</td>\n",
              "      <td>0.497500</td>\n",
              "      <td>0.548778</td>\n",
              "      <td>0.754500</td>\n",
              "      <td>0.749721</td>\n",
              "      <td>0.747064</td>\n",
              "      <td>0.754500</td>\n",
              "      <td>57.126400</td>\n",
              "      <td>428.891000</td>\n",
              "    </tr>\n",
              "    <tr>\n",
              "      <td>3600</td>\n",
              "      <td>0.481500</td>\n",
              "      <td>0.498183</td>\n",
              "      <td>0.762785</td>\n",
              "      <td>0.761687</td>\n",
              "      <td>0.760730</td>\n",
              "      <td>0.762785</td>\n",
              "      <td>57.056700</td>\n",
              "      <td>429.415000</td>\n",
              "    </tr>\n",
              "  </tbody>\n",
              "</table><p>"
            ]
          },
          "metadata": {
            "tags": []
          }
        },
        {
          "output_type": "stream",
          "text": [
            "\u001b[32m[I 2021-03-18 15:21:35,597]\u001b[0m Trial 0 finished with value: 0.7616865427144448 and parameters: {'learning_rate': 0.0001, 'num_train_epochs': 1, 'seed': 40, 'per_device_train_batch_size': 32}. Best is trial 0 with value: 0.7616865427144448.\u001b[0m\n",
            "Some weights of BertForSequenceClassification were not initialized from the model checkpoint at DeepPavlov/rubert-base-cased-conversational and are newly initialized: ['classifier.weight', 'classifier.bias']\n",
            "You should probably TRAIN this model on a down-stream task to be able to use it for predictions and inference.\n"
          ],
          "name": "stderr"
        },
        {
          "output_type": "display_data",
          "data": {
            "text/plain": [
              "<IPython.core.display.HTML object>"
            ],
            "text/html": [
              "\n",
              "    <div>\n",
              "        <style>\n",
              "            /* Turns off some styling */\n",
              "            progress {\n",
              "                /* gets rid of default border in Firefox and Opera. */\n",
              "                border: none;\n",
              "                /* Needs to be in here for Safari polyfill so background images work as expected. */\n",
              "                background-size: auto;\n",
              "            }\n",
              "        </style>\n",
              "      \n",
              "      <progress value='3754' max='3754' style='width:300px; height:20px; vertical-align: middle;'></progress>\n",
              "      [3754/3754 32:58, Epoch 2/2]\n",
              "    </div>\n",
              "    <table border=\"1\" class=\"dataframe\">\n",
              "  <thead>\n",
              "    <tr style=\"text-align: left;\">\n",
              "      <th>Step</th>\n",
              "      <th>Training Loss</th>\n",
              "      <th>Validation Loss</th>\n",
              "      <th>Accuracy</th>\n",
              "      <th>F1</th>\n",
              "      <th>Precision</th>\n",
              "      <th>Recall</th>\n",
              "      <th>Runtime</th>\n",
              "      <th>Samples Per Second</th>\n",
              "    </tr>\n",
              "  </thead>\n",
              "  <tbody>\n",
              "    <tr>\n",
              "      <td>600</td>\n",
              "      <td>0.558000</td>\n",
              "      <td>0.516291</td>\n",
              "      <td>0.746133</td>\n",
              "      <td>0.725684</td>\n",
              "      <td>0.728884</td>\n",
              "      <td>0.746133</td>\n",
              "      <td>56.784200</td>\n",
              "      <td>431.475000</td>\n",
              "    </tr>\n",
              "    <tr>\n",
              "      <td>1200</td>\n",
              "      <td>0.462200</td>\n",
              "      <td>0.485045</td>\n",
              "      <td>0.759928</td>\n",
              "      <td>0.760197</td>\n",
              "      <td>0.760476</td>\n",
              "      <td>0.759928</td>\n",
              "      <td>56.627400</td>\n",
              "      <td>432.671000</td>\n",
              "    </tr>\n",
              "    <tr>\n",
              "      <td>1800</td>\n",
              "      <td>0.432700</td>\n",
              "      <td>0.472674</td>\n",
              "      <td>0.770785</td>\n",
              "      <td>0.767325</td>\n",
              "      <td>0.765245</td>\n",
              "      <td>0.770785</td>\n",
              "      <td>57.381200</td>\n",
              "      <td>426.987000</td>\n",
              "    </tr>\n",
              "    <tr>\n",
              "      <td>2400</td>\n",
              "      <td>0.414200</td>\n",
              "      <td>0.468135</td>\n",
              "      <td>0.774336</td>\n",
              "      <td>0.770978</td>\n",
              "      <td>0.768973</td>\n",
              "      <td>0.774336</td>\n",
              "      <td>56.675200</td>\n",
              "      <td>432.306000</td>\n",
              "    </tr>\n",
              "    <tr>\n",
              "      <td>3000</td>\n",
              "      <td>0.408400</td>\n",
              "      <td>0.464955</td>\n",
              "      <td>0.774907</td>\n",
              "      <td>0.772908</td>\n",
              "      <td>0.771422</td>\n",
              "      <td>0.774907</td>\n",
              "      <td>56.590700</td>\n",
              "      <td>432.951000</td>\n",
              "    </tr>\n",
              "    <tr>\n",
              "      <td>3600</td>\n",
              "      <td>0.404100</td>\n",
              "      <td>0.464337</td>\n",
              "      <td>0.775642</td>\n",
              "      <td>0.773421</td>\n",
              "      <td>0.771832</td>\n",
              "      <td>0.775642</td>\n",
              "      <td>56.165000</td>\n",
              "      <td>436.233000</td>\n",
              "    </tr>\n",
              "  </tbody>\n",
              "</table><p>"
            ]
          },
          "metadata": {
            "tags": []
          }
        },
        {
          "output_type": "stream",
          "text": [
            "\u001b[32m[I 2021-03-18 15:54:41,419]\u001b[0m Trial 1 finished with value: 0.7734213576011032 and parameters: {'learning_rate': 1e-06, 'num_train_epochs': 2, 'seed': 40, 'per_device_train_batch_size': 64}. Best is trial 1 with value: 0.7734213576011032.\u001b[0m\n"
          ],
          "name": "stderr"
        }
      ]
    },
    {
      "cell_type": "code",
      "metadata": {
        "trusted": true,
        "id": "hS6AMz8Eu2UF"
      },
      "source": [
        "#!rm -r ./bert1"
      ],
      "execution_count": null,
      "outputs": []
    },
    {
      "cell_type": "code",
      "metadata": {
        "trusted": true,
        "id": "U5wOYuXIu2UH"
      },
      "source": [
        "trainer.save_model('rubert-base-cased-conversational-1')"
      ],
      "execution_count": null,
      "outputs": []
    }
  ]
}